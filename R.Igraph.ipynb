{
 "cells": [
  {
   "cell_type": "code",
   "execution_count": 1,
   "metadata": {
    "collapsed": false
   },
   "outputs": [
    {
     "name": "stderr",
     "output_type": "stream",
     "text": [
      "also installing the dependencies 'pkgmaker', 'registry', 'rngtools', 'gridBase', 'doParallel', 'NMF', 'irlba'\n",
      "\n"
     ]
    },
    {
     "name": "stdout",
     "output_type": "stream",
     "text": [
      "package 'pkgmaker' successfully unpacked and MD5 sums checked\n",
      "package 'registry' successfully unpacked and MD5 sums checked\n",
      "package 'rngtools' successfully unpacked and MD5 sums checked\n",
      "package 'gridBase' successfully unpacked and MD5 sums checked\n",
      "package 'doParallel' successfully unpacked and MD5 sums checked\n",
      "package 'NMF' successfully unpacked and MD5 sums checked\n",
      "package 'irlba' successfully unpacked and MD5 sums checked\n",
      "package 'igraph' successfully unpacked and MD5 sums checked\n",
      "\n",
      "The downloaded binary packages are in\n",
      "\tC:\\Users\\dima\\AppData\\Local\\Temp\\RtmpAXakVz\\downloaded_packages\n"
     ]
    }
   ],
   "source": [
    "install.packages('igraph', repos='http://cran.us.r-project.org')"
   ]
  },
  {
   "cell_type": "code",
   "execution_count": 1,
   "metadata": {
    "collapsed": false
   },
   "outputs": [
    {
     "name": "stderr",
     "output_type": "stream",
     "text": [
      "\n",
      "Attaching package: 'igraph'\n",
      "\n",
      "The following objects are masked from 'package:stats':\n",
      "\n",
      "    decompose, spectrum\n",
      "\n",
      "The following object is masked from 'package:base':\n",
      "\n",
      "    union\n",
      "\n"
     ]
    }
   ],
   "source": [
    "library(igraph)"
   ]
  },
  {
   "cell_type": "code",
   "execution_count": 78,
   "metadata": {
    "collapsed": false
   },
   "outputs": [],
   "source": [
    "q1 <- c('sex', 'necessary', 'relationship')\n",
    "q2  <- c('sex', 'important', 'good', 'relationship')\n",
    "\n",
    "df = read.table('eggs.csv')\n",
    "names(df) <- c('q1', 'q2', 'sim')\n",
    "#df['q1'] = paste0('q1_', df['q1'])\n",
    "#df['q2'] = paste0('q2_', df['q2'])\n",
    "df$q1 = paste0('1_',df$q1)\n",
    "df$q2 = paste0('2_',df$q2)"
   ]
  },
  {
   "cell_type": "code",
   "execution_count": 79,
   "metadata": {
    "collapsed": false
   },
   "outputs": [
    {
     "data": {
      "image/png": "[encoded data removed]",
      "text/plain": [
       "Plot with title \"\""
      ]
     },
     "metadata": {},
     "output_type": "display_data"
    }
   ],
   "source": [
    "g2 <- graph_from_data_frame(df, directed = F, vertices = NULL)\n",
    "g2 <- set_vertex_attr(g2, \"type\", value = c(rep(F, 3), rep(T, 4)))\n",
    "E(g2)$label <- df$sim\n",
    "#layout=layout.bipartite, \n",
    "plot(g2)"
   ]
  },
  {
   "cell_type": "code",
   "execution_count": 68,
   "metadata": {
    "collapsed": false
   },
   "outputs": [
    {
     "data": {
      "text/plain": [
       "IGRAPH UN-B 7 12 -- \n",
       "+ attr: name (v/c), type (v/l), sim (e/n)\n",
       "+ edges (vertex names):\n",
       " [1] q1_sex         --q2_sex          q1_sex         --q2_important   \n",
       " [3] q1_sex         --q2_good         q1_sex         --q2_relationship\n",
       " [5] q1_necessary   --q2_sex          q1_necessary   --q2_important   \n",
       " [7] q1_necessary   --q2_good         q1_necessary   --q2_relationship\n",
       " [9] q1_relationship--q2_sex          q1_relationship--q2_important   \n",
       "[11] q1_relationship--q2_good         q1_relationship--q2_relationship"
      ]
     },
     "metadata": {},
     "output_type": "display_data"
    }
   ],
   "source": [
    "g2"
   ]
  },
  {
   "cell_type": "code",
   "execution_count": 91,
   "metadata": {
    "collapsed": false
   },
   "outputs": [
    {
     "data": {
      "text/html": [
       "<table>\n",
       "<thead><tr><th></th><th scope=col>q1</th><th scope=col>sim.2_sex</th><th scope=col>sim.2_important</th><th scope=col>sim.2_good</th><th scope=col>sim.2_relationship</th></tr></thead>\n",
       "<tbody>\n",
       "\t<tr><th scope=row>1</th><td>1_sex         </td><td>1.000         </td><td>0.449         </td><td>0.246         </td><td>0.908         </td></tr>\n",
       "\t<tr><th scope=row>5</th><td>1_necessary   </td><td>0.446         </td><td>0.507         </td><td>0.511         </td><td>0.457         </td></tr>\n",
       "\t<tr><th scope=row>9</th><td>1_relationship</td><td>0.908         </td><td>0.444         </td><td>0.255         </td><td>1.000         </td></tr>\n",
       "</tbody>\n",
       "</table>\n"
      ],
      "text/latex": [
       "\\begin{tabular}{r|lllll}\n",
       "  & q1 & sim.2\\_sex & sim.2\\_important & sim.2\\_good & sim.2\\_relationship\\\\\n",
       "\\hline\n",
       "\t1 & 1\\_sex          & 1.000            & 0.449            & 0.246            & 0.908           \\\\\n",
       "\t5 & 1\\_necessary    & 0.446            & 0.507            & 0.511            & 0.457           \\\\\n",
       "\t9 & 1\\_relationship & 0.908            & 0.444            & 0.255            & 1.000           \\\\\n",
       "\\end{tabular}\n"
      ],
      "text/markdown": [
       "\n",
       "| <!--/--> | q1 | sim.2_sex | sim.2_important | sim.2_good | sim.2_relationship | \n",
       "|---|---|---|\n",
       "| 1 | 1_sex          | 1.000          | 0.449          | 0.246          | 0.908          | \n",
       "| 5 | 1_necessary    | 0.446          | 0.507          | 0.511          | 0.457          | \n",
       "| 9 | 1_relationship | 0.908          | 0.444          | 0.255          | 1.000          | \n",
       "\n",
       "\n"
      ],
      "text/plain": [
       "  q1             sim.2_sex sim.2_important sim.2_good sim.2_relationship\n",
       "1 1_sex          1.000     0.449           0.246      0.908             \n",
       "5 1_necessary    0.446     0.507           0.511      0.457             \n",
       "9 1_relationship 0.908     0.444           0.255      1.000             "
      ]
     },
     "metadata": {},
     "output_type": "display_data"
    }
   ],
   "source": [
    "#library(reshape)\n",
    "reshape(df, direction=\"wide\", idvar ='q1', v.names = \"sim\", timevar = \"q2\")"
   ]
  },
  {
   "cell_type": "code",
   "execution_count": 87,
   "metadata": {
    "collapsed": true
   },
   "outputs": [],
   "source": [
    "help(reshape)"
   ]
  },
  {
   "cell_type": "code",
   "execution_count": 118,
   "metadata": {
    "collapsed": false
   },
   "outputs": [
    {
     "data": {
      "text/html": [
       "<table>\n",
       "<thead><tr><th></th><th scope=col>q1</th><th scope=col>sim.2_important</th><th scope=col>sim.2_good</th></tr></thead>\n",
       "<tbody>\n",
       "\t<tr><th scope=row>6</th><td>1_necessary</td><td>0.507      </td><td>0.511      </td></tr>\n",
       "</tbody>\n",
       "</table>\n"
      ],
      "text/latex": [
       "\\begin{tabular}{r|lll}\n",
       "  & q1 & sim.2\\_important & sim.2\\_good\\\\\n",
       "\\hline\n",
       "\t6 & 1\\_necessary & 0.507         & 0.511        \\\\\n",
       "\\end{tabular}\n"
      ],
      "text/markdown": [
       "\n",
       "| <!--/--> | q1 | sim.2_important | sim.2_good | \n",
       "|---|\n",
       "| 6 | 1_necessary | 0.507       | 0.511       | \n",
       "\n",
       "\n"
      ],
      "text/plain": [
       "  q1          sim.2_important sim.2_good\n",
       "6 1_necessary 0.507           0.511     "
      ]
     },
     "metadata": {},
     "output_type": "display_data"
    }
   ],
   "source": [
    "del_l <- df$q1[df$sim == 1]\n",
    "del_l2 <- df$q2[df$sim == 1]\n",
    "df2 <- df[!(df$q1 %in% del_l) & !(df$q2 %in% del_l2),]\n",
    "reshape(df2, direction=\"wide\", idvar ='q1', v.names = \"sim\", timevar = \"q2\")"
   ]
  },
  {
   "cell_type": "code",
   "execution_count": 105,
   "metadata": {
    "collapsed": false
   },
   "outputs": [
    {
     "data": {
      "text/html": [
       "<table>\n",
       "<thead><tr><th></th><th scope=col>q1</th><th scope=col>q2</th><th scope=col>sim</th></tr></thead>\n",
       "<tbody>\n",
       "\t<tr><th scope=row>2</th><td>1_sex         </td><td>2_important   </td><td>0.449         </td></tr>\n",
       "\t<tr><th scope=row>3</th><td>1_sex         </td><td>2_good        </td><td>0.246         </td></tr>\n",
       "\t<tr><th scope=row>4</th><td>1_sex         </td><td>2_relationship</td><td>0.908         </td></tr>\n",
       "\t<tr><th scope=row>5</th><td>1_necessary   </td><td>2_sex         </td><td>0.446         </td></tr>\n",
       "\t<tr><th scope=row>6</th><td>1_necessary   </td><td>2_important   </td><td>0.507         </td></tr>\n",
       "\t<tr><th scope=row>7</th><td>1_necessary   </td><td>2_good        </td><td>0.511         </td></tr>\n",
       "\t<tr><th scope=row>8</th><td>1_necessary   </td><td>2_relationship</td><td>0.457         </td></tr>\n",
       "\t<tr><th scope=row>9</th><td>1_relationship</td><td>2_sex         </td><td>0.908         </td></tr>\n",
       "\t<tr><th scope=row>10</th><td>1_relationship</td><td>2_important   </td><td>0.444         </td></tr>\n",
       "\t<tr><th scope=row>11</th><td>1_relationship</td><td>2_good        </td><td>0.255         </td></tr>\n",
       "</tbody>\n",
       "</table>\n"
      ],
      "text/latex": [
       "\\begin{tabular}{r|lll}\n",
       "  & q1 & q2 & sim\\\\\n",
       "\\hline\n",
       "\t2 & 1\\_sex          & 2\\_important    & 0.449           \\\\\n",
       "\t3 & 1\\_sex          & 2\\_good         & 0.246           \\\\\n",
       "\t4 & 1\\_sex          & 2\\_relationship & 0.908           \\\\\n",
       "\t5 & 1\\_necessary    & 2\\_sex          & 0.446           \\\\\n",
       "\t6 & 1\\_necessary    & 2\\_important    & 0.507           \\\\\n",
       "\t7 & 1\\_necessary    & 2\\_good         & 0.511           \\\\\n",
       "\t8 & 1\\_necessary    & 2\\_relationship & 0.457           \\\\\n",
       "\t9 & 1\\_relationship & 2\\_sex          & 0.908           \\\\\n",
       "\t10 & 1\\_relationship & 2\\_important    & 0.444           \\\\\n",
       "\t11 & 1\\_relationship & 2\\_good         & 0.255           \\\\\n",
       "\\end{tabular}\n"
      ],
      "text/markdown": [
       "\n",
       "| <!--/--> | q1 | q2 | sim | \n",
       "|---|---|---|---|---|---|---|---|---|---|\n",
       "| 2 | 1_sex          | 2_important    | 0.449          | \n",
       "| 3 | 1_sex          | 2_good         | 0.246          | \n",
       "| 4 | 1_sex          | 2_relationship | 0.908          | \n",
       "| 5 | 1_necessary    | 2_sex          | 0.446          | \n",
       "| 6 | 1_necessary    | 2_important    | 0.507          | \n",
       "| 7 | 1_necessary    | 2_good         | 0.511          | \n",
       "| 8 | 1_necessary    | 2_relationship | 0.457          | \n",
       "| 9 | 1_relationship | 2_sex          | 0.908          | \n",
       "| 10 | 1_relationship | 2_important    | 0.444          | \n",
       "| 11 | 1_relationship | 2_good         | 0.255          | \n",
       "\n",
       "\n"
      ],
      "text/plain": [
       "   q1             q2             sim  \n",
       "2  1_sex          2_important    0.449\n",
       "3  1_sex          2_good         0.246\n",
       "4  1_sex          2_relationship 0.908\n",
       "5  1_necessary    2_sex          0.446\n",
       "6  1_necessary    2_important    0.507\n",
       "7  1_necessary    2_good         0.511\n",
       "8  1_necessary    2_relationship 0.457\n",
       "9  1_relationship 2_sex          0.908\n",
       "10 1_relationship 2_important    0.444\n",
       "11 1_relationship 2_good         0.255"
      ]
     },
     "metadata": {},
     "output_type": "display_data"
    }
   ],
   "source": [
    "df2"
   ]
  },
  {
   "cell_type": "code",
   "execution_count": null,
   "metadata": {
    "collapsed": true
   },
   "outputs": [],
   "source": []
  }
 ],
 "metadata": {
  "anaconda-cloud": {},
  "kernelspec": {
   "display_name": "R",
   "language": "R",
   "name": "ir"
  },
  "language_info": {
   "codemirror_mode": "r",
   "file_extension": ".r",
   "mimetype": "text/x-r-source",
   "name": "R",
   "pygments_lexer": "r",
   "version": "3.3.2"
  }
 },
 "nbformat": 4,
 "nbformat_minor": 1
}
