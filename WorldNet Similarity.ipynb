{
 "cells": [
  {
   "cell_type": "markdown",
   "metadata": {},
   "source": [
    "## World Net similarity\n",
    "http://www.ccis2k.org/iajit/PDF/Vol.13,%20No.2/7829.pdf"
   ]
  },
  {
   "cell_type": "code",
   "execution_count": 3,
   "metadata": {
    "collapsed": true
   },
   "outputs": [],
   "source": [
    "%matplotlib inline\n",
    "import pandas as pd\n",
    "import dask.dataframe as daskdf\n",
    "import numpy as np\n",
    "import seaborn as sns\n",
    "import matplotlib.pyplot as plt\n",
    "from nltk.corpus import stopwords\n",
    "from nltk import word_tokenize, ngrams\n",
    "from nltk.corpus import wordnet as wn\n",
    "import re\n",
    "\n",
    "from sklearn.model_selection import train_test_split\n",
    "from sklearn.metrics import log_loss\n",
    "from sklearn import metrics"
   ]
  },
  {
   "cell_type": "code",
   "execution_count": 2,
   "metadata": {
    "collapsed": false
   },
   "outputs": [
    {
     "name": "stdout",
     "output_type": "stream",
     "text": [
      "Wall time: 12.6 s\n"
     ]
    }
   ],
   "source": [
    "%%time\n",
    "df = pd.read_csv('data/train.csv')\n",
    "df_test = pd.read_csv('data/test.csv')"
   ]
  },
  {
   "cell_type": "code",
   "execution_count": 4,
   "metadata": {
    "collapsed": false
   },
   "outputs": [
    {
     "data": {
      "text/plain": [
       "[Synset('dog.n.01'),\n",
       " Synset('frump.n.01'),\n",
       " Synset('dog.n.03'),\n",
       " Synset('cad.n.01'),\n",
       " Synset('frank.n.02'),\n",
       " Synset('pawl.n.01'),\n",
       " Synset('andiron.n.01'),\n",
       " Synset('chase.v.01')]"
      ]
     },
     "execution_count": 4,
     "metadata": {},
     "output_type": "execute_result"
    }
   ],
   "source": [
    "wn.synsets('dog')"
   ]
  },
  {
   "cell_type": "markdown",
   "metadata": {},
   "source": [
    "synset1.path_similarity(synset2): Return a score denoting how similar two word senses are, based on the shortest path that connects the senses in the is-a (hypernym/hypnoym) taxonomy. The score is in the range 0 to 1. By default, there is now a fake root node added to verbs so for cases where previously a path could not be found---and None was returned---it should return a value. The old behavior can be achieved by setting simulate_root to be False. A score of 1 represents identity i.e. comparing a sense with itself will return 1.\n"
   ]
  },
  {
   "cell_type": "code",
   "execution_count": 5,
   "metadata": {
    "collapsed": false
   },
   "outputs": [
    {
     "name": "stdout",
     "output_type": "stream",
     "text": [
      "None\n",
      "None\n"
     ]
    }
   ],
   "source": [
    "dog = wn.synset('dog.n.01')\n",
    "cat = wn.synset('cat.n.01')\n",
    "\n",
    "hit = wn.synset('hit.v.01')\n",
    "slap = wn.synset('slap.v.01')\n",
    "\n",
    "\n",
    "dog.path_similarity(cat)  # doctest: +ELLIPSIS\n",
    "\n",
    "hit.path_similarity(slap)  # doctest: +ELLIPSIS\n",
    "wn.path_similarity(hit, slap)  # doctest: +ELLIPSIS\n",
    "print(hit.path_similarity(slap, simulate_root=False))\n",
    "print(wn.path_similarity(hit, slap, simulate_root=False))"
   ]
  },
  {
   "cell_type": "code",
   "execution_count": 21,
   "metadata": {
    "collapsed": false
   },
   "outputs": [
    {
     "name": "stdout",
     "output_type": "stream",
     "text": [
      "[ 'Astrology: I am a Capricorn Sun Cap moon and cap rising...what does that say about me?'\n",
      " 'How can I be a good geologist?'\n",
      " 'How do I read and find my YouTube comments?'] [ \"I'm a triple Capricorn (Sun, Moon and ascendant in Capricorn) What does this say about me?\"\n",
      " 'What should I do to be a great geologist?'\n",
      " 'How can I see all my Youtube comments?']\n"
     ]
    }
   ],
   "source": [
    "print(np.array(df[df.is_duplicate == 1].head(3).question1), \n",
    "      np.array(df[df.is_duplicate == 1].head(3).question2))"
   ]
  },
  {
   "cell_type": "code",
   "execution_count": 35,
   "metadata": {
    "collapsed": false
   },
   "outputs": [],
   "source": [
    "t = df[df.is_duplicate == 1].head(3).loc[:,['question1', 'question2']].apply(\n",
    "    lambda row: tuple([row[0], row[1]]), axis=1)"
   ]
  },
  {
   "cell_type": "code",
   "execution_count": 65,
   "metadata": {
    "collapsed": false
   },
   "outputs": [],
   "source": [
    "df[df.is_duplicate == 1].id[0:5]\n",
    "q1 = df.loc[5, 'question1']\n",
    "q2 = df.loc[5, 'question2']"
   ]
  },
  {
   "cell_type": "code",
   "execution_count": 66,
   "metadata": {
    "collapsed": false
   },
   "outputs": [],
   "source": [
    "regex = re.compile(r'[^\\w]', re.IGNORECASE)\n",
    "lq1 = regex.sub(' ', q1).lower().split()\n",
    "lq2 = regex.sub(' ', q2).lower().split()"
   ]
  },
  {
   "cell_type": "code",
   "execution_count": 79,
   "metadata": {
    "collapsed": false
   },
   "outputs": [
    {
     "data": {
      "text/plain": [
       "[Synset('iodine.n.01'),\n",
       " Synset('one.n.01'),\n",
       " Synset('i.n.03'),\n",
       " Synset('one.s.01')]"
      ]
     },
     "execution_count": 79,
     "metadata": {},
     "output_type": "execute_result"
    }
   ],
   "source": [
    "wn.synsets('i')"
   ]
  },
  {
   "cell_type": "code",
   "execution_count": 80,
   "metadata": {
    "collapsed": false
   },
   "outputs": [
    {
     "name": "stdout",
     "output_type": "stream",
     "text": [
      "astrology\n",
      "[Synset('astrology.n.01')]\n",
      "i\n",
      "[Synset('iodine.n.01'), Synset('one.n.01'), Synset('i.n.03'), Synset('one.s.01')]\n",
      "am\n",
      "[Synset('americium.n.01'), Synset('master_of_arts.n.01'), Synset('amplitude_modulation.n.01'), Synset('be.v.01'), Synset('be.v.02'), Synset('be.v.03'), Synset('exist.v.01'), Synset('be.v.05'), Synset('equal.v.01'), Synset('constitute.v.01'), Synset('be.v.08'), Synset('embody.v.02'), Synset('be.v.10'), Synset('be.v.11'), Synset('be.v.12'), Synset('cost.v.01')]\n",
      "a\n",
      "[Synset('angstrom.n.01'), Synset('vitamin_a.n.01'), Synset('deoxyadenosine_monophosphate.n.01'), Synset('adenine.n.01'), Synset('ampere.n.02'), Synset('a.n.06'), Synset('a.n.07')]\n",
      "capricorn\n",
      "[Synset('capricorn.n.01'), Synset('capricornus.n.01'), Synset('capricorn.n.03')]\n",
      "sun\n",
      "[Synset('sun.n.01'), Synset('sunlight.n.01'), Synset('sun.n.03'), Synset('sun.n.04'), Synset('sunday.n.01'), Synset('sun.v.01'), Synset('sun.v.02')]\n",
      "cap\n",
      "[Synset('cap.n.01'), Synset('cap.n.02'), Synset('detonator.n.01'), Synset('cap.n.04'), Synset('cap.n.05'), Synset('hood.n.02'), Synset('ceiling.n.03'), Synset('crown.n.11'), Synset('capital.n.08'), Synset('cap.v.01'), Synset('cap.v.02')]\n",
      "moon\n",
      "[Synset('moon.n.01'), Synset('moon.n.02'), Synset('lunar_month.n.01'), Synset('moonlight.n.01'), Synset('moon.n.05'), Synset('moon.n.06'), Synset('daydream.v.02'), Synset('moon.v.02'), Synset('moon.v.03')]\n",
      "and\n",
      "[]\n",
      "cap\n",
      "[Synset('cap.n.01'), Synset('cap.n.02'), Synset('detonator.n.01'), Synset('cap.n.04'), Synset('cap.n.05'), Synset('hood.n.02'), Synset('ceiling.n.03'), Synset('crown.n.11'), Synset('capital.n.08'), Synset('cap.v.01'), Synset('cap.v.02')]\n",
      "rising\n",
      "[Synset('rise.n.04'), Synset('rebellion.n.02'), Synset('rise.v.01'), Synset('rise.v.02'), Synset('arise.v.03'), Synset('rise.v.04'), Synset('surface.v.01'), Synset('originate.v.01'), Synset('ascend.v.08'), Synset('wax.v.02'), Synset('heighten.v.01'), Synset('get_up.v.02'), Synset('rise.v.11'), Synset('rise.v.12'), Synset('rise.v.13'), Synset('rebel.v.01'), Synset('rise.v.15'), Synset('rise.v.16'), Synset('resurrect.v.03'), Synset('rising.a.01'), Synset('acclivitous.s.01'), Synset('emerging.s.01'), Synset('rising.s.04')]\n",
      "what\n",
      "[]\n",
      "does\n",
      "[Synset('department_of_energy.n.01'), Synset('doe.n.02'), Synset('make.v.01'), Synset('perform.v.01'), Synset('do.v.03'), Synset('do.v.04'), Synset('cause.v.01'), Synset('practice.v.01'), Synset('suffice.v.01'), Synset('do.v.08'), Synset('act.v.02'), Synset('serve.v.09'), Synset('do.v.11'), Synset('dress.v.16'), Synset('do.v.13')]\n",
      "that\n",
      "[]\n",
      "say\n",
      "[Synset('say.n.01'), Synset('state.v.01'), Synset('allege.v.01'), Synset('suppose.v.01'), Synset('read.v.02'), Synset('order.v.01'), Synset('pronounce.v.01'), Synset('say.v.07'), Synset('say.v.08'), Synset('say.v.09'), Synset('say.v.10'), Synset('say.v.11')]\n",
      "about\n",
      "[Synset('about.s.01'), Synset('approximately.r.01'), Synset('about.r.02'), Synset('about.r.03'), Synset('about.r.04'), Synset('about.r.05'), Synset('about.r.06'), Synset('about.r.07')]\n",
      "me\n",
      "[Synset('maine.n.01')]\n"
     ]
    }
   ],
   "source": [
    "for w in lq1:\n",
    "    print(w)\n",
    "    w = wn.synsets(w)\n",
    "    print(w)"
   ]
  },
  {
   "cell_type": "code",
   "execution_count": null,
   "metadata": {
    "collapsed": true
   },
   "outputs": [],
   "source": []
  }
 ],
 "metadata": {
  "anaconda-cloud": {},
  "kernelspec": {
   "display_name": "Python [conda root]",
   "language": "python",
   "name": "conda-root-py"
  },
  "language_info": {
   "codemirror_mode": {
    "name": "ipython",
    "version": 3
   },
   "file_extension": ".py",
   "mimetype": "text/x-python",
   "name": "python",
   "nbconvert_exporter": "python",
   "pygments_lexer": "ipython3",
   "version": "3.5.2"
  }
 },
 "nbformat": 4,
 "nbformat_minor": 1
}
