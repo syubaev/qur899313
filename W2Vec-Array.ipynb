{
 "cells": [
  {
   "cell_type": "markdown",
   "metadata": {
    "_cell_guid": "e8acc802-80ba-e4b0-403c-df40ce20cf20"
   },
   "source": [
    "# Visualizing Word Vectors with t-SNE\n",
    "\n",
    "TSNE is pretty useful when it comes to visualizing similarity between objects. It works by taking a group of high-dimensional (100 dimensions via Word2Vec) vocabulary word feature vectors, then compresses them down to 2-dimensional x,y coordinate pairs. The idea is to keep similar words close together on the plane, while maximizing the distance between dissimilar words. \n",
    "\n",
    "### Steps\n",
    "\n",
    "1. Clean the data\n",
    "2. Build a corpus\n",
    "3. Train a Word2Vec Model\n",
    "4. Train XGBoost and logReg\n",
    "\n",
    "Credit: Some of the code was inspired by this awesome [NLP repo][1]. \n",
    "\n",
    "\n",
    "\n",
    "\n",
    "  [1]: https://github.com/rouseguy/DeepLearningNLP_Py"
   ]
  },
  {
   "cell_type": "code",
   "execution_count": 2,
   "metadata": {
    "_cell_guid": "327a2a48-c101-959c-af2d-cabd82276e65",
    "collapsed": false
   },
   "outputs": [],
   "source": [
    "import pandas as pd\n",
    "pd.options.mode.chained_assignment = None \n",
    "import numpy as np\n",
    "import re\n",
    "import nltk\n",
    "from nltk import ngrams\n",
    "\n",
    "from sklearn import metrics\n",
    "import xgboost as xgb\n",
    "from sklearn.linear_model import LogisticRegression\n",
    "\n",
    "from gensim.models import word2vec\n",
    "\n",
    "#from sklearn.manifold import TSNE\n",
    "import matplotlib.pyplot as plt\n",
    "%matplotlib inline\n",
    "plt.style.use('ggplot')\n",
    "\n",
    "import multiprocessing as mp\n",
    "import timeit\n"
   ]
  },
  {
   "cell_type": "code",
   "execution_count": 3,
   "metadata": {
    "collapsed": false
   },
   "outputs": [
    {
     "name": "stdout",
     "output_type": "stream",
     "text": [
      "CPU times: user 1.88 s, sys: 332 ms, total: 2.21 s\n",
      "Wall time: 2.47 s\n"
     ]
    }
   ],
   "source": [
    "%%time\n",
    "#data = pd.read_csv('data/train.csv').sample(50000, random_state=23)\n",
    "data = pd.read_csv('data/train.csv')"
   ]
  },
  {
   "cell_type": "code",
   "execution_count": 12,
   "metadata": {
    "collapsed": false
   },
   "outputs": [
    {
     "data": {
      "text/plain": [
       "Index(['id', 'qid1', 'qid2', 'question1', 'question2', 'is_duplicate'], dtype='object')"
      ]
     },
     "execution_count": 12,
     "metadata": {},
     "output_type": "execute_result"
    }
   ],
   "source": [
    "data.columns"
   ]
  },
  {
   "cell_type": "code",
   "execution_count": 5,
   "metadata": {
    "collapsed": false
   },
   "outputs": [],
   "source": [
    "data_ar = np.array(data)"
   ]
  },
  {
   "cell_type": "code",
   "execution_count": 17,
   "metadata": {
    "collapsed": false
   },
   "outputs": [
    {
     "ename": "ValueError",
     "evalue": "could not broadcast input array from shape (8) into shape (14)",
     "output_type": "error",
     "traceback": [
      "\u001b[0;31m---------------------------------------------------------------------------\u001b[0m",
      "\u001b[0;31mValueError\u001b[0m                                Traceback (most recent call last)",
      "\u001b[0;32m<ipython-input-17-5ca164087974>\u001b[0m in \u001b[0;36m<module>\u001b[0;34m()\u001b[0m\n\u001b[1;32m      1\u001b[0m \u001b[0mdata_ar\u001b[0m\u001b[0;34m[\u001b[0m\u001b[0;36m0\u001b[0m\u001b[0;34m,\u001b[0m\u001b[0;34m:\u001b[0m\u001b[0;34m]\u001b[0m\u001b[0;34m\u001b[0m\u001b[0m\n\u001b[0;32m----> 2\u001b[0;31m \u001b[0mnp\u001b[0m\u001b[0;34m.\u001b[0m\u001b[0mapply_along_axis\u001b[0m\u001b[0;34m(\u001b[0m\u001b[0;32mlambda\u001b[0m \u001b[0mx\u001b[0m\u001b[0;34m:\u001b[0m \u001b[0mx\u001b[0m\u001b[0;34m[\u001b[0m\u001b[0;36m3\u001b[0m\u001b[0;34m]\u001b[0m\u001b[0;34m.\u001b[0m\u001b[0msplit\u001b[0m\u001b[0;34m(\u001b[0m\u001b[0;34m)\u001b[0m\u001b[0;34m,\u001b[0m \u001b[0maxis\u001b[0m\u001b[0;34m=\u001b[0m\u001b[0;36m1\u001b[0m\u001b[0;34m,\u001b[0m \u001b[0marr\u001b[0m\u001b[0;34m=\u001b[0m\u001b[0mdata_ar\u001b[0m\u001b[0;34m[\u001b[0m\u001b[0;36m0\u001b[0m\u001b[0;34m:\u001b[0m\u001b[0;36m10\u001b[0m\u001b[0;34m,\u001b[0m\u001b[0;34m:\u001b[0m\u001b[0;34m]\u001b[0m\u001b[0;34m)\u001b[0m\u001b[0;34m\u001b[0m\u001b[0m\n\u001b[0m",
      "\u001b[0;32m/home/dm/anaconda3/lib/python3.6/site-packages/numpy/lib/shape_base.py\u001b[0m in \u001b[0;36mapply_along_axis\u001b[0;34m(func1d, axis, arr, *args, **kwargs)\u001b[0m\n\u001b[1;32m    129\u001b[0m             \u001b[0mi\u001b[0m\u001b[0;34m.\u001b[0m\u001b[0mput\u001b[0m\u001b[0;34m(\u001b[0m\u001b[0mindlist\u001b[0m\u001b[0;34m,\u001b[0m \u001b[0mind\u001b[0m\u001b[0;34m)\u001b[0m\u001b[0;34m\u001b[0m\u001b[0m\n\u001b[1;32m    130\u001b[0m             \u001b[0mres\u001b[0m \u001b[0;34m=\u001b[0m \u001b[0masanyarray\u001b[0m\u001b[0;34m(\u001b[0m\u001b[0mfunc1d\u001b[0m\u001b[0;34m(\u001b[0m\u001b[0marr\u001b[0m\u001b[0;34m[\u001b[0m\u001b[0mtuple\u001b[0m\u001b[0;34m(\u001b[0m\u001b[0mi\u001b[0m\u001b[0;34m.\u001b[0m\u001b[0mtolist\u001b[0m\u001b[0;34m(\u001b[0m\u001b[0;34m)\u001b[0m\u001b[0;34m)\u001b[0m\u001b[0;34m]\u001b[0m\u001b[0;34m,\u001b[0m \u001b[0;34m*\u001b[0m\u001b[0margs\u001b[0m\u001b[0;34m,\u001b[0m \u001b[0;34m**\u001b[0m\u001b[0mkwargs\u001b[0m\u001b[0;34m)\u001b[0m\u001b[0;34m)\u001b[0m\u001b[0;34m\u001b[0m\u001b[0m\n\u001b[0;32m--> 131\u001b[0;31m             \u001b[0moutarr\u001b[0m\u001b[0;34m[\u001b[0m\u001b[0mtuple\u001b[0m\u001b[0;34m(\u001b[0m\u001b[0mi\u001b[0m\u001b[0;34m.\u001b[0m\u001b[0mtolist\u001b[0m\u001b[0;34m(\u001b[0m\u001b[0;34m)\u001b[0m\u001b[0;34m)\u001b[0m\u001b[0;34m]\u001b[0m \u001b[0;34m=\u001b[0m \u001b[0mres\u001b[0m\u001b[0;34m\u001b[0m\u001b[0m\n\u001b[0m\u001b[1;32m    132\u001b[0m             \u001b[0mk\u001b[0m \u001b[0;34m+=\u001b[0m \u001b[0;36m1\u001b[0m\u001b[0;34m\u001b[0m\u001b[0m\n\u001b[1;32m    133\u001b[0m         \u001b[0;32mif\u001b[0m \u001b[0mres\u001b[0m\u001b[0;34m.\u001b[0m\u001b[0mshape\u001b[0m \u001b[0;34m==\u001b[0m \u001b[0;34m(\u001b[0m\u001b[0;34m)\u001b[0m\u001b[0;34m:\u001b[0m\u001b[0;34m\u001b[0m\u001b[0m\n",
      "\u001b[0;31mValueError\u001b[0m: could not broadcast input array from shape (8) into shape (14)"
     ]
    }
   ],
   "source": [
    "data_ar[0,:]\n",
    "np.apply_along_axis(lambda x: x[3].split(), axis=1, arr=data_ar[0:10,:])"
   ]
  },
  {
   "cell_type": "code",
   "execution_count": 19,
   "metadata": {
    "collapsed": false
   },
   "outputs": [
    {
     "ename": "ValueError",
     "evalue": "setting an array element with a sequence",
     "output_type": "error",
     "traceback": [
      "\u001b[0;31m---------------------------------------------------------------------------\u001b[0m",
      "\u001b[0;31mValueError\u001b[0m                                Traceback (most recent call last)",
      "\u001b[0;32m<ipython-input-19-25d1c8892993>\u001b[0m in \u001b[0;36m<module>\u001b[0;34m()\u001b[0m\n\u001b[0;32m----> 1\u001b[0;31m \u001b[0mnp\u001b[0m\u001b[0;34m.\u001b[0m\u001b[0marray\u001b[0m\u001b[0;34m(\u001b[0m\u001b[0;34m[\u001b[0m\u001b[0;36m1\u001b[0m\u001b[0;34m,\u001b[0m\u001b[0;36m2\u001b[0m\u001b[0;34m,\u001b[0m\u001b[0;36m3\u001b[0m\u001b[0;34m,\u001b[0m \u001b[0;34m[\u001b[0m\u001b[0;34m'asd asd asd'\u001b[0m\u001b[0;34m]\u001b[0m\u001b[0;34m]\u001b[0m\u001b[0;34m)\u001b[0m\u001b[0;34m\u001b[0m\u001b[0m\n\u001b[0m",
      "\u001b[0;31mValueError\u001b[0m: setting an array element with a sequence"
     ]
    }
   ],
   "source": [
    "np.array([1,2,3, ['asd asd asd']])"
   ]
  },
  {
   "cell_type": "code",
   "execution_count": 149,
   "metadata": {
    "_cell_guid": "c5d7458b-d380-8af7-13cf-5ed65fb42a83",
    "collapsed": false
   },
   "outputs": [
    {
     "name": "stdout",
     "output_type": "stream",
     "text": [
      "CPU times: user 12 ms, sys: 0 ns, total: 12 ms\n",
      "Wall time: 103 ms\n"
     ]
    }
   ],
   "source": [
    "%%time\n",
    "STOP_WORDS = nltk.corpus.stopwords.words()\n",
    "regex = re.compile('([^\\s\\w]|_)+')\n",
    "\n",
    "def clean_sentence(val):\n",
    "    \"remove chars that are not letters or numbers, downcase, then remove stop words\"\n",
    "    \n",
    "    sentence = regex.sub('', val).lower()\n",
    "    sentence = sentence.split(\" \")\n",
    "    \n",
    "    for word in list(sentence):\n",
    "        if word in STOP_WORDS:\n",
    "            sentence.remove(word)  \n",
    "            \n",
    "    sentence = \" \".join(sentence)\n",
    "    return sentence\n",
    "\n",
    "def clean_dataframe(data):\n",
    "    \"drop nans, then apply 'clean_sentence' function to question1 and 2\"\n",
    "    data = data.dropna(how=\"any\")\n",
    "    \n",
    "    for col in ['question1', 'question2']:\n",
    "        data[col] = data[col].apply(clean_sentence)\n",
    "    \n",
    "    return data\n",
    "\n",
    "#data = clean_dataframe(data)\n",
    "#data.head(5)"
   ]
  },
  {
   "cell_type": "code",
   "execution_count": 150,
   "metadata": {
    "collapsed": true
   },
   "outputs": [],
   "source": [
    "def multProc(f, data):\n",
    "    try:\n",
    "        p = mp.Pool(processes=6)\n",
    "        split = np.array_split(data, 8)\n",
    "        res = p.map(f, split)\n",
    "    finally:\n",
    "        p.close()\n",
    "    return res"
   ]
  },
  {
   "cell_type": "code",
   "execution_count": 151,
   "metadata": {
    "collapsed": false
   },
   "outputs": [],
   "source": [
    "%time\n",
    "data = pd.concat(multProc(clean_dataframe, data))"
   ]
  },
  {
   "cell_type": "code",
   "execution_count": 152,
   "metadata": {
    "_cell_guid": "e72326d7-e707-d4e9-928a-519a9193bfc5",
    "collapsed": false
   },
   "outputs": [
    {
     "name": "stdout",
     "output_type": "stream",
     "text": [
      "CPU times: user 2.8 s, sys: 608 ms, total: 3.41 s\n",
      "Wall time: 3.39 s\n"
     ]
    }
   ],
   "source": [
    "%%time\n",
    "def build_corpus(data):\n",
    "    \"Creates a list of lists containing words from each sentence\"\n",
    "    corpus = []\n",
    "    for col in ['question1', 'question2']:\n",
    "        for sentence in data[col].iteritems():\n",
    "            word_list = sentence[1].split()\n",
    "            corpus.append(word_list)\n",
    "            \n",
    "    return corpus\n",
    "\n",
    "corpus = build_corpus(data)        \n",
    "corpus[0:2]"
   ]
  },
  {
   "cell_type": "code",
   "execution_count": null,
   "metadata": {
    "collapsed": false
   },
   "outputs": [],
   "source": [
    "len(corpus)"
   ]
  },
  {
   "cell_type": "code",
   "execution_count": null,
   "metadata": {
    "collapsed": false
   },
   "outputs": [],
   "source": [
    "for sentence in data['question1'][1:10].iteritems():\n",
    "    print(sentence)"
   ]
  },
  {
   "cell_type": "markdown",
   "metadata": {
    "_cell_guid": "c652ad03-be65-f4e6-0afd-02c237449b43"
   },
   "source": [
    "# Word 2 Vec\n",
    "\n",
    "The Word to Vec model produces a vocabulary, with each word being represented by an n-dimensional numpy array (100 values in this example)"
   ]
  },
  {
   "cell_type": "code",
   "execution_count": 108,
   "metadata": {
    "collapsed": true
   },
   "outputs": [],
   "source": [
    "model_w2v = word2vec.Word2Vec(corpus, size=100, window=20, min_count=1, workers=4)"
   ]
  },
  {
   "cell_type": "code",
   "execution_count": 153,
   "metadata": {
    "collapsed": false
   },
   "outputs": [],
   "source": [
    "def auc_plot(y_true, y_pred):\n",
    "    loss = metrics.log_loss(y_true, y_pred)\n",
    "    fpr, tpr, thresholds = metrics.roc_curve(y_true, y_pred)\n",
    "    roc_auc=metrics.auc(fpr, tpr)\n",
    "    plt.figure()\n",
    "    plt.plot(fpr, tpr, color='darkorange', lw=2,\n",
    "             label='ROC curve (area = %0.2f)' % roc_auc)\n",
    "    plt.plot([0, 1], [0, 1], color='navy', lw=2, linestyle='--')\n",
    "    plt.legend(loc=\"lower right\")\n",
    "    plt.show()\n",
    "    return loss, roc_auc "
   ]
  },
  {
   "cell_type": "code",
   "execution_count": 155,
   "metadata": {
    "collapsed": false,
    "scrolled": false
   },
   "outputs": [
    {
     "name": "stdout",
     "output_type": "stream",
     "text": [
      "CPU times: user 0 ns, sys: 0 ns, total: 0 ns\n",
      "Wall time: 24.6 µs\n"
     ]
    }
   ],
   "source": [
    "%%time\n",
    "def calc_cosine_similir(q1, q2):\n",
    "    if len(q1) == 0 or len(q2) ==0:\n",
    "        return 0\n",
    "    v1 = np.sum([model_w2v.wv[w] for w in q1], axis = 0)\n",
    "    v2 = np.sum([model_w2v.wv[w] for w in q2], axis = 0)\n",
    "    res = np.dot(v1, v2) / ( np.sqrt(np.dot(v1, v1)) * np.sqrt(np.dot(v2, v2)) )\n",
    "    if type(res) != np.dtype('float32'):\n",
    "        print(type(res))\n",
    "        print(q1,q2,v1,v2)\n",
    "        raise\n",
    "    return res\n",
    "\n",
    "\n",
    "def calc_counters_from_list(l):\n",
    "    n = len(l)\n",
    "    if n == 0:\n",
    "        return [0.0] * 10\n",
    "    l = [np.sum(l),\n",
    "         np.min(l),\n",
    "         np.max(l),\n",
    "         np.median(l),\n",
    "         np.average(l)]\n",
    "    return l + [x/n for x in l]\n",
    "    \n",
    "    \n",
    "def calc_w2v_similarity(row):\n",
    "    q1 = row['question1'].split() \n",
    "    q2 = row['question2'].split()\n",
    "    cosine_similir = calc_cosine_similir(q1, q2)\n",
    "    q1_uniq = list(set(q1) - set(q2)) \n",
    "    q2_uniq = list(set(q2) - set(q1))\n",
    "    words_simil = []\n",
    "    for w1 in q1_uniq:    \n",
    "        for w2 in q2_uniq:\n",
    "            s = model_w2v.similarity(w1, w2)\n",
    "            words_simil.append(s)\n",
    "    feat_count = calc_counters_from_list(words_simil)\n",
    "    return [cosine_similir] + calc_counters_from_list(words_simil)"
   ]
  },
  {
   "cell_type": "code",
   "execution_count": 156,
   "metadata": {
    "collapsed": false,
    "scrolled": false
   },
   "outputs": [
    {
     "name": "stdout",
     "output_type": "stream",
     "text": [
      "CPU times: user 1.85 s, sys: 912 ms, total: 2.76 s\n",
      "Wall time: 5min 53s\n"
     ]
    }
   ],
   "source": [
    "%%time\n",
    "# Parallel run\n",
    "\n",
    "def f(x):\n",
    "    return np.vstack(x.apply(lambda row: calc_w2v_similarity(row), axis=1))\n",
    "X_w2v = np.vstack(multProc(f, data))"
   ]
  },
  {
   "cell_type": "code",
   "execution_count": 157,
   "metadata": {
    "collapsed": false
   },
   "outputs": [
    {
     "name": "stderr",
     "output_type": "stream",
     "text": [
      "/home/dm/anaconda3/lib/python3.6/site-packages/ipykernel/__main__.py:18: DeprecationWarning: generator 'ngrams' raised StopIteration\n",
      "/home/dm/anaconda3/lib/python3.6/site-packages/ipykernel/__main__.py:18: DeprecationWarning: generator 'ngrams' raised StopIteration\n",
      "/home/dm/anaconda3/lib/python3.6/site-packages/ipykernel/__main__.py:18: DeprecationWarning: generator 'ngrams' raised StopIteration\n",
      "/home/dm/anaconda3/lib/python3.6/site-packages/ipykernel/__main__.py:17: DeprecationWarning: generator 'ngrams' raised StopIteration\n",
      "/home/dm/anaconda3/lib/python3.6/site-packages/ipykernel/__main__.py:17: DeprecationWarning: generator 'ngrams' raised StopIteration\n",
      "/home/dm/anaconda3/lib/python3.6/site-packages/ipykernel/__main__.py:17: DeprecationWarning: generator 'ngrams' raised StopIteration\n",
      "/home/dm/anaconda3/lib/python3.6/site-packages/ipykernel/__main__.py:17: DeprecationWarning: generator 'ngrams' raised StopIteration\n",
      "/home/dm/anaconda3/lib/python3.6/site-packages/ipykernel/__main__.py:18: DeprecationWarning: generator 'ngrams' raised StopIteration\n",
      "/home/dm/anaconda3/lib/python3.6/site-packages/ipykernel/__main__.py:18: DeprecationWarning: generator 'ngrams' raised StopIteration\n",
      "/home/dm/anaconda3/lib/python3.6/site-packages/ipykernel/__main__.py:17: DeprecationWarning: generator 'ngrams' raised StopIteration\n",
      "/home/dm/anaconda3/lib/python3.6/site-packages/ipykernel/__main__.py:18: DeprecationWarning: generator 'ngrams' raised StopIteration\n",
      "/home/dm/anaconda3/lib/python3.6/site-packages/ipykernel/__main__.py:17: DeprecationWarning: generator 'ngrams' raised StopIteration\n"
     ]
    },
    {
     "name": "stdout",
     "output_type": "stream",
     "text": [
      "CPU times: user 1.57 s, sys: 644 ms, total: 2.22 s\n",
      "Wall time: 3min 44s\n"
     ]
    }
   ],
   "source": [
    "%%time\n",
    "def calc_common_len_ratio(list1, list2):\n",
    "    \"\"\"Calculate number of common elements in lists.\n",
    "    Return list with number and ratio.\n",
    "    \"\"\"\n",
    "    common_unigrams_len = len( set(list1).intersection(set(list2)) )\n",
    "    common_unigrams_ratio = float(common_unigrams_len) / max(len( set(list1).union(set(list2)) ),1)\n",
    "    return [common_unigrams_len, common_unigrams_ratio]\n",
    "\n",
    "\n",
    "def feature_extraction(row):\n",
    "    unigrams_que1 = row['question1'].split() \n",
    "    unigrams_que2 = row['question2'].split()\n",
    "    out_list = calc_common_len_ratio(unigrams_que1, unigrams_que2)\n",
    "    \n",
    "    # get bigram and trigram features #\n",
    "    for ngr_numb in [2,3]:\n",
    "        q1_ngram = [i for i in ngrams(unigrams_que1, ngr_numb)]\n",
    "        q2_ngram = [i for i in ngrams(unigrams_que2, ngr_numb)]\n",
    "        out_list = out_list + calc_common_len_ratio(q1_ngram, q2_ngram)\n",
    "    return out_list\n",
    "#X_common_old = np.array(data.apply(lambda row: feature_extraction(row), axis=1, raw=True))\n",
    "\n",
    "def f(x):\n",
    "    return np.array(x.apply(lambda row: feature_extraction(row), axis=1, raw=True))\n",
    "\n",
    "X_common = np.vstack(multProc(f, data))\n"
   ]
  },
  {
   "cell_type": "code",
   "execution_count": 158,
   "metadata": {
    "collapsed": false
   },
   "outputs": [],
   "source": [
    "X = np.c_[X_common, X_w2v]"
   ]
  },
  {
   "cell_type": "code",
   "execution_count": 159,
   "metadata": {
    "collapsed": false
   },
   "outputs": [],
   "source": [
    "from sklearn.model_selection import train_test_split\n",
    "y = data.is_duplicate\n",
    "X_train, X_test, y_train, y_test = train_test_split(X, y, test_size=0.33, random_state=42)"
   ]
  },
  {
   "cell_type": "code",
   "execution_count": 160,
   "metadata": {
    "collapsed": false
   },
   "outputs": [],
   "source": [
    "clf = LogisticRegression(penalty='l1', dual=False, tol=0.0001, C=0.5,\n",
    "                   fit_intercept=True, intercept_scaling=1, class_weight=None,\n",
    "                   random_state=42, solver='liblinear', max_iter=100,\n",
    "                   multi_class='ovr', verbose=0, warm_start=False, n_jobs=1)\n",
    "clf.fit(X_train, y_train)\n",
    "y_pred = clf.predict_proba(X_test)[:,1]"
   ]
  },
  {
   "cell_type": "code",
   "execution_count": 161,
   "metadata": {
    "collapsed": false
   },
   "outputs": [
    {
     "data": {
      "image/png": "[encoded data removed]",
      "text/plain": [
       "<matplotlib.figure.Figure at 0x7f932e687cc0>"
      ]
     },
     "metadata": {},
     "output_type": "display_data"
    },
    {
     "data": {
      "text/plain": [
       "(0.53298479364626472, 0.76564210183473125)"
      ]
     },
     "execution_count": 161,
     "metadata": {},
     "output_type": "execute_result"
    }
   ],
   "source": [
    "auc_plot(y_test, y_pred)"
   ]
  },
  {
   "cell_type": "code",
   "execution_count": 140,
   "metadata": {
    "collapsed": false
   },
   "outputs": [
    {
     "data": {
      "text/plain": [
       "[('min', 0.073439792714595706),\n",
       " ('min_norm', -0.14795109658762412),\n",
       " ('cosine_similir', 0.26469094308025559),\n",
       " ('max', -0.48038486532915614),\n",
       " ('median', -0.61145658671042213),\n",
       " ('avg_norm', -0.68778058010071108),\n",
       " ('median_norm', -1.0112172866645373),\n",
       " ('sum', 1.0780675426051733),\n",
       " ('avg', 1.1709111705847135),\n",
       " ('max_norm', 1.2876169350718158),\n",
       " ('sum_norm', 2.499255669975772)]"
      ]
     },
     "execution_count": 140,
     "metadata": {},
     "output_type": "execute_result"
    },
    {
     "data": {
      "image/png": "[encoded data removed]",
      "text/plain": [
       "<matplotlib.figure.Figure at 0x7f92ee3f7f98>"
      ]
     },
     "metadata": {},
     "output_type": "display_data"
    }
   ],
   "source": [
    "coef_names = ['sum', 'min', 'max', 'median', 'avg']\n",
    "coef_names = ['cosine_similir'] + coef_names + [x + '_norm' for x in coef_names]\n",
    "\n",
    "logreg_coef = sorted([(x, y) for x,y in zip(coef_names, clf.coef_[0])],\n",
    "       key=lambda tup: np.abs(tup[1]))\n",
    "\n",
    "label = [x for x, _ in logreg_coef]\n",
    "val = [x for _, x  in logreg_coef]\n",
    "groups = len(val)\n",
    "fig, ax = plt.subplots()\n",
    "plt.barh(range(groups), np.abs(val),\n",
    "                 label='Men')\n",
    "plt.yticks(np.arange(groups), label)\n",
    "logreg_coef"
   ]
  },
  {
   "cell_type": "code",
   "execution_count": 142,
   "metadata": {
    "collapsed": false
   },
   "outputs": [
    {
     "name": "stdout",
     "output_type": "stream",
     "text": [
      "id                                                              1\n",
      "qid1                                                            3\n",
      "qid2                                                            4\n",
      "question1                         story kohinoor kohinoor diamond\n",
      "question2       would happen indian government stole kohinoor ...\n",
      "is_duplicate                                                    0\n",
      "Name: 1, dtype: object\n"
     ]
    },
    {
     "data": {
      "text/plain": [
       "0.13287671"
      ]
     },
     "execution_count": 142,
     "metadata": {},
     "output_type": "execute_result"
    }
   ],
   "source": [
    "print(data.iloc[1,:])\n",
    "q=data.iloc[1,:]['question1'].split()\n",
    "v1 = np.sum([model_w2v.wv[w] for w in q], axis = 0)\n",
    "q=data.iloc[1,:]['question2'].split() \n",
    "v2 = np.sum([model_w2v.wv[w] for w in q], axis = 0)\n",
    "np.dot(v1, v2) / ( np.sqrt(np.dot(v1, v1)) * np.sqrt(np.dot(v2, v2)) )"
   ]
  },
  {
   "cell_type": "code",
   "execution_count": 144,
   "metadata": {
    "collapsed": false
   },
   "outputs": [
    {
     "name": "stdout",
     "output_type": "stream",
     "text": [
      "[0]\ttrain-logloss:0.687311\ttest-logloss:0.687355\n",
      "Multiple eval metrics have been passed: 'test-logloss' will be used for early stopping.\n",
      "\n",
      "Will train until test-logloss hasn't improved in 25 rounds.\n",
      "[50]\ttrain-logloss:0.549367\ttest-logloss:0.55065\n",
      "[100]\ttrain-logloss:0.511062\ttest-logloss:0.512903\n",
      "[150]\ttrain-logloss:0.497534\ttest-logloss:0.499718\n",
      "[200]\ttrain-logloss:0.491668\ttest-logloss:0.494088\n",
      "[250]\ttrain-logloss:0.488914\ttest-logloss:0.49152\n",
      "[300]\ttrain-logloss:0.486881\ttest-logloss:0.489649\n",
      "[350]\ttrain-logloss:0.485205\ttest-logloss:0.488164\n",
      "[400]\ttrain-logloss:0.483921\ttest-logloss:0.487027\n",
      "[450]\ttrain-logloss:0.482731\ttest-logloss:0.48598\n",
      "[500]\ttrain-logloss:0.481793\ttest-logloss:0.48518\n",
      "[550]\ttrain-logloss:0.481064\ttest-logloss:0.484603\n",
      "[600]\ttrain-logloss:0.48039\ttest-logloss:0.484068\n",
      "[650]\ttrain-logloss:0.479686\ttest-logloss:0.483524\n",
      "[700]\ttrain-logloss:0.478997\ttest-logloss:0.48299\n",
      "[750]\ttrain-logloss:0.478458\ttest-logloss:0.48261\n",
      "[800]\ttrain-logloss:0.477954\ttest-logloss:0.482253\n",
      "[850]\ttrain-logloss:0.47748\ttest-logloss:0.481917\n",
      "[900]\ttrain-logloss:0.477007\ttest-logloss:0.48158\n",
      "[950]\ttrain-logloss:0.476581\ttest-logloss:0.481298\n",
      "[999]\ttrain-logloss:0.476118\ttest-logloss:0.480966\n"
     ]
    },
    {
     "data": {
      "image/png": "[encoded data removed]",
      "text/plain": [
       "<matplotlib.figure.Figure at 0x7f92f5bfa828>"
      ]
     },
     "metadata": {},
     "output_type": "display_data"
    },
    {
     "data": {
      "text/plain": [
       "(0.48096558855722787, 0.81372010910499193)"
      ]
     },
     "execution_count": 144,
     "metadata": {},
     "output_type": "execute_result"
    }
   ],
   "source": [
    "params = {}\n",
    "params[\"objective\"] = \"binary:logistic\"\n",
    "params['eval_metric'] = 'logloss'\n",
    "params[\"eta\"] = 0.02\n",
    "params[\"subsample\"] = 0.7\n",
    "params[\"min_child_weight\"] = 25\n",
    "params[\"colsample_bytree\"] = 0.7\n",
    "params[\"max_depth\"] = 4\n",
    "params[\"silent\"] = 1\n",
    "params[\"seed\"] = 42\n",
    "num_rounds = 1000 \n",
    "plst = list(params.items())\n",
    "xgtrain = xgb.DMatrix(X_train, label=y_train)\n",
    "xgtest = xgb.DMatrix(X_test, label=y_test)\n",
    "watchlist = [ (xgtrain,'train'), (xgtest, 'test') ]\n",
    "model = xgb.train(plst, xgtrain, num_rounds, watchlist,\n",
    "                  early_stopping_rounds=25, verbose_eval=50)\n",
    "y_pred = model.predict(xgtest)\n",
    "auc_plot(y_test, y_pred)"
   ]
  },
  {
   "cell_type": "code",
   "execution_count": 145,
   "metadata": {
    "collapsed": false
   },
   "outputs": [
    {
     "data": {
      "image/png": "[encoded data removed]",
      "text/plain": [
       "<matplotlib.figure.Figure at 0x7f92ee3d7a58>"
      ]
     },
     "metadata": {},
     "output_type": "display_data"
    },
    {
     "data": {
      "text/plain": [
       "(0.48096558855722787, 0.81372010910499193)"
      ]
     },
     "execution_count": 145,
     "metadata": {},
     "output_type": "execute_result"
    }
   ],
   "source": [
    "y_pred = model.predict(xgtest)\n",
    "auc_plot(y_test, y_pred)"
   ]
  },
  {
   "cell_type": "code",
   "execution_count": 146,
   "metadata": {
    "collapsed": false
   },
   "outputs": [
    {
     "data": {
      "text/plain": [
       "<matplotlib.axes._subplots.AxesSubplot at 0x7f92ffda16d8>"
      ]
     },
     "execution_count": 146,
     "metadata": {},
     "output_type": "execute_result"
    },
    {
     "data": {
      "image/png": "[encoded data removed]",
      "text/plain": [
       "<matplotlib.figure.Figure at 0x7f92ee3d72b0>"
      ]
     },
     "metadata": {},
     "output_type": "display_data"
    }
   ],
   "source": [
    "xgb.plot_importance(model,  title=coef_names)"
   ]
  },
  {
   "cell_type": "code",
   "execution_count": null,
   "metadata": {
    "collapsed": true
   },
   "outputs": [],
   "source": []
  }
 ],
 "metadata": {
  "_change_revision": 2,
  "_is_fork": false,
  "anaconda-cloud": {},
  "kernelspec": {
   "display_name": "Python 3",
   "language": "python",
   "name": "python3"
  },
  "language_info": {
   "codemirror_mode": {
    "name": "ipython",
    "version": 3
   },
   "file_extension": ".py",
   "mimetype": "text/x-python",
   "name": "python",
   "nbconvert_exporter": "python",
   "pygments_lexer": "ipython3",
   "version": "3.6.0"
  }
 },
 "nbformat": 4,
 "nbformat_minor": 0
}
