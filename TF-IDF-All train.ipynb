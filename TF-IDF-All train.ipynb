{
 "cells": [
  {
   "cell_type": "markdown",
   "metadata": {
    "_cell_guid": "e8acc802-80ba-e4b0-403c-df40ce20cf20"
   },
   "source": [
    "# TF IDF\n",
    "\n",
    "Adding the term frequency inverse dictionary frequency measure (tf-idf). The term\n",
    "frequency is the count of a term in a specific question, the inverse document frequency is the log of the total number\n",
    "of questions divided by the number of questions containing the term.\n",
    "\n",
    "### Steps\n",
    "\n",
    "1. Load cleaned data\n",
    "2. Count TF-IDF\n",
    "\n",
    "'question1_lowercase' - low case questions with stop words\n",
    "\n",
    "'concatenated_questions'='question1_lowercase'+\n",
    "                                    'question2_lowercase'\n",
    "                                    \n",
    "CountVectorizer('concatenated_questions')\n",
    "\n",
    "Credit: Some of the code was inspired by this awesome [NLP repo][1]. \n",
    "\n",
    "\n",
    "\n",
    "\n",
    "  [1]: https://github.com/rouseguy/DeepLearningNLP_Py"
   ]
  },
  {
   "cell_type": "code",
   "execution_count": 1,
   "metadata": {
    "_cell_guid": "327a2a48-c101-959c-af2d-cabd82276e65",
    "collapsed": false
   },
   "outputs": [],
   "source": [
    "import pandas as pd\n",
    "pd.options.mode.chained_assignment = None\n",
    "pd.set_option('max_colwidth', 250)\n",
    "import numpy as np\n",
    "import re\n",
    "import nltk\n",
    "from nltk.corpus import stopwords\n",
    "#from nltk import ngrams\n",
    "\n",
    "#from sklearn import metrics\n",
    "import xgboost as xgb\n",
    "#from sklearn.linear_model import LogisticRegression\n",
    "\n",
    "#from gensim.models import word2vec\n",
    "\n",
    "import matplotlib.pyplot as plt\n",
    "%matplotlib inline\n",
    "plt.style.use('ggplot')\n",
    "plt.rcParams[\"figure.figsize\"] = (16,6)\n",
    "\n",
    "import multiprocessing as mp\n",
    "\n",
    "from sklearn.feature_extraction.text import TfidfTransformer\n",
    "from sklearn.feature_extraction.text import CountVectorizer\n",
    "from difflib import SequenceMatcher\n",
    "\n",
    "from sklearn.preprocessing import StandardScaler\n",
    "from sklearn.ensemble import GradientBoostingClassifier\n",
    "from sklearn.model_selection import train_test_split\n",
    "from sklearn.metrics import log_loss\n",
    "\n",
    "\n",
    "%load_ext autotime"
   ]
  },
  {
   "cell_type": "code",
   "execution_count": 2,
   "metadata": {
    "collapsed": false,
    "scrolled": true
   },
   "outputs": [
    {
     "name": "stdout",
     "output_type": "stream",
     "text": [
      "time: 1.04 s\n"
     ]
    }
   ],
   "source": [
    "#data = pd.read_csv('data/train.csv').sample(50000, random_state=23)\n",
    "train = pd.read_csv('../data/train.csv')"
   ]
  },
  {
   "cell_type": "code",
   "execution_count": 3,
   "metadata": {
    "collapsed": false
   },
   "outputs": [
    {
     "name": "stdout",
     "output_type": "stream",
     "text": [
      "time: 110 ms\n"
     ]
    }
   ],
   "source": [
    "for data in [train]:\n",
    "    for col in ['question1', 'question2']:\n",
    "        data[col][pd.isnull(data[col])] = ''\n",
    "del data"
   ]
  },
  {
   "cell_type": "code",
   "execution_count": 4,
   "metadata": {
    "collapsed": false
   },
   "outputs": [
    {
     "name": "stdout",
     "output_type": "stream",
     "text": [
      "time: 1 ms\n"
     ]
    }
   ],
   "source": [
    "assert 404290 == train.shape[0]"
   ]
  },
  {
   "cell_type": "code",
   "execution_count": 5,
   "metadata": {
    "collapsed": false
   },
   "outputs": [
    {
     "name": "stdout",
     "output_type": "stream",
     "text": [
      "(404290, 6)\n"
     ]
    },
    {
     "data": {
      "text/html": [
       "<div>\n",
       "<table border=\"1\" class=\"dataframe\">\n",
       "  <thead>\n",
       "    <tr style=\"text-align: right;\">\n",
       "      <th></th>\n",
       "      <th>id</th>\n",
       "      <th>qid1</th>\n",
       "      <th>qid2</th>\n",
       "      <th>question1</th>\n",
       "      <th>question2</th>\n",
       "      <th>is_duplicate</th>\n",
       "    </tr>\n",
       "  </thead>\n",
       "  <tbody>\n",
       "    <tr>\n",
       "      <th>0</th>\n",
       "      <td>0</td>\n",
       "      <td>1</td>\n",
       "      <td>2</td>\n",
       "      <td>What is the step by step guide to invest in share market in india?</td>\n",
       "      <td>What is the step by step guide to invest in share market?</td>\n",
       "      <td>0</td>\n",
       "    </tr>\n",
       "    <tr>\n",
       "      <th>1</th>\n",
       "      <td>1</td>\n",
       "      <td>3</td>\n",
       "      <td>4</td>\n",
       "      <td>What is the story of Kohinoor (Koh-i-Noor) Diamond?</td>\n",
       "      <td>What would happen if the Indian government stole the Kohinoor (Koh-i-Noor) diamond back?</td>\n",
       "      <td>0</td>\n",
       "    </tr>\n",
       "    <tr>\n",
       "      <th>2</th>\n",
       "      <td>2</td>\n",
       "      <td>5</td>\n",
       "      <td>6</td>\n",
       "      <td>How can I increase the speed of my internet connection while using a VPN?</td>\n",
       "      <td>How can Internet speed be increased by hacking through DNS?</td>\n",
       "      <td>0</td>\n",
       "    </tr>\n",
       "  </tbody>\n",
       "</table>\n",
       "</div>"
      ],
      "text/plain": [
       "   id  qid1  qid2  \\\n",
       "0   0     1     2   \n",
       "1   1     3     4   \n",
       "2   2     5     6   \n",
       "\n",
       "                                                                   question1  \\\n",
       "0         What is the step by step guide to invest in share market in india?   \n",
       "1                        What is the story of Kohinoor (Koh-i-Noor) Diamond?   \n",
       "2  How can I increase the speed of my internet connection while using a VPN?   \n",
       "\n",
       "                                                                                  question2  \\\n",
       "0                                 What is the step by step guide to invest in share market?   \n",
       "1  What would happen if the Indian government stole the Kohinoor (Koh-i-Noor) diamond back?   \n",
       "2                               How can Internet speed be increased by hacking through DNS?   \n",
       "\n",
       "   is_duplicate  \n",
       "0             0  \n",
       "1             0  \n",
       "2             0  "
      ]
     },
     "execution_count": 5,
     "metadata": {},
     "output_type": "execute_result"
    },
    {
     "name": "stdout",
     "output_type": "stream",
     "text": [
      "time: 13.7 ms\n"
     ]
    }
   ],
   "source": [
    "print(train.shape)\n",
    "train.head(3)"
   ]
  },
  {
   "cell_type": "code",
   "execution_count": 6,
   "metadata": {
    "collapsed": false
   },
   "outputs": [
    {
     "data": {
      "text/html": [
       "<div>\n",
       "<table border=\"1\" class=\"dataframe\">\n",
       "  <thead>\n",
       "    <tr style=\"text-align: right;\">\n",
       "      <th></th>\n",
       "      <th>id</th>\n",
       "      <th>qid1</th>\n",
       "      <th>qid2</th>\n",
       "      <th>question1</th>\n",
       "      <th>question2</th>\n",
       "      <th>is_duplicate</th>\n",
       "    </tr>\n",
       "  </thead>\n",
       "  <tbody>\n",
       "    <tr>\n",
       "      <th>404287</th>\n",
       "      <td>404287</td>\n",
       "      <td>537928</td>\n",
       "      <td>537929</td>\n",
       "      <td>What is one coin?</td>\n",
       "      <td>What's this coin?</td>\n",
       "      <td>0</td>\n",
       "    </tr>\n",
       "    <tr>\n",
       "      <th>404288</th>\n",
       "      <td>404288</td>\n",
       "      <td>537930</td>\n",
       "      <td>537931</td>\n",
       "      <td>What is the approx annual cost of living while studying in UIC Chicago, for an Indian student?</td>\n",
       "      <td>I am having little hairfall problem but I want to use hair styling product. Which one should I prefer out of gel, wax and clay?</td>\n",
       "      <td>0</td>\n",
       "    </tr>\n",
       "    <tr>\n",
       "      <th>404289</th>\n",
       "      <td>404289</td>\n",
       "      <td>537932</td>\n",
       "      <td>537933</td>\n",
       "      <td>What is like to have sex with cousin?</td>\n",
       "      <td>What is it like to have sex with your cousin?</td>\n",
       "      <td>0</td>\n",
       "    </tr>\n",
       "  </tbody>\n",
       "</table>\n",
       "</div>"
      ],
      "text/plain": [
       "            id    qid1    qid2  \\\n",
       "404287  404287  537928  537929   \n",
       "404288  404288  537930  537931   \n",
       "404289  404289  537932  537933   \n",
       "\n",
       "                                                                                             question1  \\\n",
       "404287                                                                               What is one coin?   \n",
       "404288  What is the approx annual cost of living while studying in UIC Chicago, for an Indian student?   \n",
       "404289                                                           What is like to have sex with cousin?   \n",
       "\n",
       "                                                                                                                              question2  \\\n",
       "404287                                                                                                                What's this coin?   \n",
       "404288  I am having little hairfall problem but I want to use hair styling product. Which one should I prefer out of gel, wax and clay?   \n",
       "404289                                                                                    What is it like to have sex with your cousin?   \n",
       "\n",
       "        is_duplicate  \n",
       "404287             0  \n",
       "404288             0  \n",
       "404289             0  "
      ]
     },
     "execution_count": 6,
     "metadata": {},
     "output_type": "execute_result"
    },
    {
     "name": "stdout",
     "output_type": "stream",
     "text": [
      "time: 10.2 ms\n"
     ]
    }
   ],
   "source": [
    "train.tail(3)"
   ]
  },
  {
   "cell_type": "code",
   "execution_count": 7,
   "metadata": {
    "collapsed": false
   },
   "outputs": [
    {
     "name": "stdout",
     "output_type": "stream",
     "text": [
      "time: 12.5 ms\n"
     ]
    }
   ],
   "source": [
    "STOP_WORDS = stopwords.words('english')\n",
    "\n",
    "def remove_stopwords(tokenized_sent):\n",
    "    unique_stopwords = set(STOP_WORDS)\n",
    "    return [word for word in tokenized_sent if word.lower() not in unique_stopwords]\n",
    "\n",
    "\n",
    "def concatenate_tokens(token_list):\n",
    "    return str(' '.join(token_list))\n",
    "\n",
    "\n",
    "def find_similarity(sent1, sent2):\n",
    "    return SequenceMatcher(lambda x: x in (' ', '?', '.', '\"\"', '!'), sent1, sent2).ratio()\n",
    "\n",
    "\n",
    "def return_common_tokens(sent1, sent2):\n",
    "    return \" \".join([word.lower() for word in sent1 if word in sent2])\n",
    "\n",
    "\n",
    "def convert_tokens_lower(tokens):\n",
    "    return [token.lower() for token in tokens]"
   ]
  },
  {
   "cell_type": "code",
   "execution_count": 8,
   "metadata": {
    "collapsed": false
   },
   "outputs": [
    {
     "name": "stdout",
     "output_type": "stream",
     "text": [
      "time: 2min 30s\n"
     ]
    }
   ],
   "source": [
    "train_transformed = pd.DataFrame(index = train.index)\n",
    "temp_features = pd.DataFrame()\n",
    "\n",
    "for i in (1, 2):\n",
    "    # question tokens\n",
    "    train_transformed['question%s_tokens' % i] = train['question%s' % i].apply(nltk.word_tokenize)\n",
    "    # question lowercase tokens\n",
    "    train_transformed['question%s_lowercase_tokens' % i] = train_transformed['question%s_tokens' % i].apply(convert_tokens_lower)\n",
    "    # question lowercase tokens join with ' '\n",
    "    train_transformed['question%s_lowercase' % i] = train_transformed['question%s_lowercase_tokens' % i].apply(concatenate_tokens)\n",
    "    # remove stop words from question tokens\n",
    "    train_transformed['question%s_words' % i] = train_transformed['question%s_tokens' % i].apply(remove_stopwords)\n",
    "    # w\\o stop words join ' '\n",
    "    train_transformed['question%s_pruned' % i] = train_transformed['question%s_words' % i].apply(concatenate_tokens)"
   ]
  },
  {
   "cell_type": "code",
   "execution_count": 9,
   "metadata": {
    "collapsed": false
   },
   "outputs": [
    {
     "name": "stdout",
     "output_type": "stream",
     "text": [
      "time: 2min 59s\n"
     ]
    }
   ],
   "source": [
    "temp_features['common_tokens'] = np.vectorize(return_common_tokens)(\n",
    "    train_transformed['question1_tokens'],\n",
    "    train_transformed['question2_tokens'])\n",
    "\n",
    "naive_similarity = pd.DataFrame()\n",
    "naive_similarity['similarity'] = np.vectorize(find_similarity)(\n",
    "    train['question1'], train['question2'])\n",
    "naive_similarity['pruned_similarity'] = np.vectorize(find_similarity)(\n",
    "    train_transformed['question1_pruned'], train_transformed['question2_pruned'])"
   ]
  },
  {
   "cell_type": "code",
   "execution_count": 10,
   "metadata": {
    "collapsed": false
   },
   "outputs": [
    {
     "data": {
      "text/html": [
       "<div>\n",
       "<table border=\"1\" class=\"dataframe\">\n",
       "  <thead>\n",
       "    <tr style=\"text-align: right;\">\n",
       "      <th></th>\n",
       "      <th>id</th>\n",
       "      <th>qid1</th>\n",
       "      <th>qid2</th>\n",
       "      <th>question1</th>\n",
       "      <th>question2</th>\n",
       "      <th>is_duplicate</th>\n",
       "    </tr>\n",
       "  </thead>\n",
       "  <tbody>\n",
       "    <tr>\n",
       "      <th>404287</th>\n",
       "      <td>404287</td>\n",
       "      <td>537928</td>\n",
       "      <td>537929</td>\n",
       "      <td>What is one coin?</td>\n",
       "      <td>What's this coin?</td>\n",
       "      <td>0</td>\n",
       "    </tr>\n",
       "    <tr>\n",
       "      <th>404288</th>\n",
       "      <td>404288</td>\n",
       "      <td>537930</td>\n",
       "      <td>537931</td>\n",
       "      <td>What is the approx annual cost of living while studying in UIC Chicago, for an Indian student?</td>\n",
       "      <td>I am having little hairfall problem but I want to use hair styling product. Which one should I prefer out of gel, wax and clay?</td>\n",
       "      <td>0</td>\n",
       "    </tr>\n",
       "    <tr>\n",
       "      <th>404289</th>\n",
       "      <td>404289</td>\n",
       "      <td>537932</td>\n",
       "      <td>537933</td>\n",
       "      <td>What is like to have sex with cousin?</td>\n",
       "      <td>What is it like to have sex with your cousin?</td>\n",
       "      <td>0</td>\n",
       "    </tr>\n",
       "  </tbody>\n",
       "</table>\n",
       "</div>"
      ],
      "text/plain": [
       "            id    qid1    qid2  \\\n",
       "404287  404287  537928  537929   \n",
       "404288  404288  537930  537931   \n",
       "404289  404289  537932  537933   \n",
       "\n",
       "                                                                                             question1  \\\n",
       "404287                                                                               What is one coin?   \n",
       "404288  What is the approx annual cost of living while studying in UIC Chicago, for an Indian student?   \n",
       "404289                                                           What is like to have sex with cousin?   \n",
       "\n",
       "                                                                                                                              question2  \\\n",
       "404287                                                                                                                What's this coin?   \n",
       "404288  I am having little hairfall problem but I want to use hair styling product. Which one should I prefer out of gel, wax and clay?   \n",
       "404289                                                                                    What is it like to have sex with your cousin?   \n",
       "\n",
       "        is_duplicate  \n",
       "404287             0  \n",
       "404288             0  \n",
       "404289             0  "
      ]
     },
     "execution_count": 10,
     "metadata": {},
     "output_type": "execute_result"
    },
    {
     "name": "stdout",
     "output_type": "stream",
     "text": [
      "time: 10.5 ms\n"
     ]
    }
   ],
   "source": [
    "train.tail(3)"
   ]
  },
  {
   "cell_type": "code",
   "execution_count": 11,
   "metadata": {
    "collapsed": false
   },
   "outputs": [
    {
     "data": {
      "text/plain": [
       "(87010, (404290, 87010))"
      ]
     },
     "execution_count": 11,
     "metadata": {},
     "output_type": "execute_result"
    },
    {
     "name": "stdout",
     "output_type": "stream",
     "text": [
      "time: 28 s\n"
     ]
    }
   ],
   "source": [
    "dictionary = pd.DataFrame()\n",
    "\n",
    "#Deriving the TF-IDF\n",
    "dictionary['concatenated_questions'] = train['question1'] +\\\n",
    "                                       train['question2']\n",
    "\n",
    "vectorizer = CountVectorizer()\n",
    "terms_matrix = vectorizer.fit_transform(dictionary['concatenated_questions'])\n",
    "terms_matrix_1 = vectorizer.transform(train['question1'])\n",
    "terms_matrix_2 = vectorizer.transform(train['question2'])\n",
    "common_terms_matrx = vectorizer.transform(temp_features['common_tokens'])\n",
    "\n",
    "transformer = TfidfTransformer(smooth_idf = False)\n",
    "weights_matrix = transformer.fit_transform(terms_matrix)\n",
    "weights_matrix_1 = transformer.transform(terms_matrix_1)\n",
    "weights_matrix_2 = transformer.transform(terms_matrix_2)\n",
    "common_weights_matrix = transformer.transform(common_terms_matrx)\n",
    "\n",
    "len(transformer.idf_), terms_matrix.shape"
   ]
  },
  {
   "cell_type": "code",
   "execution_count": 12,
   "metadata": {
    "collapsed": false
   },
   "outputs": [
    {
     "name": "stdout",
     "output_type": "stream",
     "text": [
      "time: 4.86 s\n"
     ]
    }
   ],
   "source": [
    "#Converting the sparse matrices into dataframes\n",
    "transformed_matrix_1 = weights_matrix_1.tocoo(copy = False)\n",
    "transformed_matrix_2 = weights_matrix_2.tocoo(copy = False)\n",
    "transformed_common_weights_matrix = common_weights_matrix.tocoo(copy = False)\n",
    "\n",
    "weights_dataframe_1 = pd.DataFrame({'index_': transformed_matrix_1.row,\n",
    "                                    'term_id': transformed_matrix_1.col,\n",
    "                                    'weight_q1': transformed_matrix_1.data}\n",
    "                                   )[['index_', 'term_id', 'weight_q1']].sort_values(['index_', 'term_id']).reset_index(drop = True)\n",
    "weights_dataframe_2 = pd.DataFrame({'index_': transformed_matrix_2.row,\n",
    "                                    'term_id': transformed_matrix_2.col,\n",
    "                                    'weight_q2': transformed_matrix_2.data}\n",
    "                                   )[['index_', 'term_id', 'weight_q2']].sort_values(['index_', 'term_id']).reset_index(drop = True)\n",
    "weights_dataframe_3 = pd.DataFrame({'index_': transformed_common_weights_matrix.row,\n",
    "                                    'term_id': transformed_common_weights_matrix.col,\n",
    "                                    'common_weight': transformed_common_weights_matrix.data}\n",
    "                                   )[['index_', 'term_id', 'common_weight']].sort_values(['index_', 'term_id']).reset_index(drop = True)"
   ]
  },
  {
   "cell_type": "code",
   "execution_count": 13,
   "metadata": {
    "collapsed": false
   },
   "outputs": [
    {
     "data": {
      "text/html": [
       "<div>\n",
       "<table border=\"1\" class=\"dataframe\">\n",
       "  <thead>\n",
       "    <tr style=\"text-align: right;\">\n",
       "      <th></th>\n",
       "      <th>index_</th>\n",
       "      <th>term_id</th>\n",
       "      <th>weight_q1</th>\n",
       "    </tr>\n",
       "  </thead>\n",
       "  <tbody>\n",
       "    <tr>\n",
       "      <th>0</th>\n",
       "      <td>0</td>\n",
       "      <td>14427</td>\n",
       "      <td>0.192096</td>\n",
       "    </tr>\n",
       "    <tr>\n",
       "      <th>1</th>\n",
       "      <td>0</td>\n",
       "      <td>34732</td>\n",
       "      <td>0.372950</td>\n",
       "    </tr>\n",
       "    <tr>\n",
       "      <th>2</th>\n",
       "      <td>0</td>\n",
       "      <td>39097</td>\n",
       "      <td>0.190415</td>\n",
       "    </tr>\n",
       "    <tr>\n",
       "      <th>3</th>\n",
       "      <td>0</td>\n",
       "      <td>39370</td>\n",
       "      <td>0.179128</td>\n",
       "    </tr>\n",
       "    <tr>\n",
       "      <th>4</th>\n",
       "      <td>0</td>\n",
       "      <td>40703</td>\n",
       "      <td>0.304640</td>\n",
       "    </tr>\n",
       "    <tr>\n",
       "      <th>5</th>\n",
       "      <td>0</td>\n",
       "      <td>41015</td>\n",
       "      <td>0.079398</td>\n",
       "    </tr>\n",
       "    <tr>\n",
       "      <th>6</th>\n",
       "      <td>0</td>\n",
       "      <td>48329</td>\n",
       "      <td>0.285380</td>\n",
       "    </tr>\n",
       "    <tr>\n",
       "      <th>7</th>\n",
       "      <td>0</td>\n",
       "      <td>69883</td>\n",
       "      <td>0.309829</td>\n",
       "    </tr>\n",
       "    <tr>\n",
       "      <th>8</th>\n",
       "      <td>0</td>\n",
       "      <td>73556</td>\n",
       "      <td>0.677918</td>\n",
       "    </tr>\n",
       "    <tr>\n",
       "      <th>9</th>\n",
       "      <td>0</td>\n",
       "      <td>77153</td>\n",
       "      <td>0.073842</td>\n",
       "    </tr>\n",
       "    <tr>\n",
       "      <th>10</th>\n",
       "      <td>0</td>\n",
       "      <td>77999</td>\n",
       "      <td>0.092720</td>\n",
       "    </tr>\n",
       "    <tr>\n",
       "      <th>11</th>\n",
       "      <td>0</td>\n",
       "      <td>84068</td>\n",
       "      <td>0.074133</td>\n",
       "    </tr>\n",
       "  </tbody>\n",
       "</table>\n",
       "</div>"
      ],
      "text/plain": [
       "    index_  term_id  weight_q1\n",
       "0        0    14427   0.192096\n",
       "1        0    34732   0.372950\n",
       "2        0    39097   0.190415\n",
       "3        0    39370   0.179128\n",
       "4        0    40703   0.304640\n",
       "5        0    41015   0.079398\n",
       "6        0    48329   0.285380\n",
       "7        0    69883   0.309829\n",
       "8        0    73556   0.677918\n",
       "9        0    77153   0.073842\n",
       "10       0    77999   0.092720\n",
       "11       0    84068   0.074133"
      ]
     },
     "execution_count": 13,
     "metadata": {},
     "output_type": "execute_result"
    },
    {
     "name": "stdout",
     "output_type": "stream",
     "text": [
      "time: 19.6 ms\n"
     ]
    }
   ],
   "source": [
    "weights_dataframe_1[weights_dataframe_1.index_ == 0]"
   ]
  },
  {
   "cell_type": "code",
   "execution_count": 14,
   "metadata": {
    "collapsed": false
   },
   "outputs": [
    {
     "name": "stdout",
     "output_type": "stream",
     "text": [
      "        weight_q1  weight_q2  common_weight\n",
      "index_                                     \n",
      "0        2.832448   2.637482       2.696941\n",
      "1        2.487004   3.229442       1.885227\n",
      "2        3.118979   2.881197       1.505364\n",
      "3        2.694132   2.646688       0.000000\n",
      "4        3.293980   2.454654       1.807265\n",
      "5        3.150524   2.843250       2.385149\n",
      "6        1.522887   2.863109       0.000000\n",
      "7        1.760694   2.090614       1.230528\n",
      "8        2.276502   2.451010       2.276502\n",
      "9        2.523197   2.396553       1.662748\n",
      "10       2.631487   3.537228       1.000000\n",
      "11       2.551003   2.420837       1.490198\n",
      "12       2.385279   2.567715       2.068119\n",
      "13       2.477372   2.281708       2.281708\n",
      "14       4.094279   4.094372       3.907869\n",
      "15       3.506089   3.371539       1.714702\n",
      "16       1.671311   1.704155       1.381387\n",
      "17       3.121941   2.347789       1.000000\n",
      "18       3.371878   3.408031       2.150652\n",
      "19       2.560321   2.665572       2.315315\n",
      "time: 671 ms\n"
     ]
    }
   ],
   "source": [
    "#Summing the weights of each token in each question to get the summed weight of the question\n",
    "sum_weights_1 = weights_dataframe_1.groupby('index_').sum()\n",
    "sum_weights_2 = weights_dataframe_2.groupby('index_').sum()\n",
    "sum_weights_3 = weights_dataframe_3.groupby('index_').sum()\n",
    "\n",
    "# Join by term id\n",
    "weights = sum_weights_1.join(sum_weights_2, how = 'outer', lsuffix = '_q1',\n",
    "                             rsuffix = '_q2').\\\n",
    "    join(sum_weights_3, how = 'outer', lsuffix = '_cw', rsuffix = '_cw')\n",
    "\n",
    "weights = weights.fillna(0)\n",
    "del weights['term_id_q1'], weights['term_id_q2'], weights['term_id']\n",
    "\n",
    "print (weights[:20])"
   ]
  },
  {
   "cell_type": "code",
   "execution_count": 15,
   "metadata": {
    "collapsed": false
   },
   "outputs": [
    {
     "name": "stdout",
     "output_type": "stream",
     "text": [
      "time: 6min 27s\n"
     ]
    }
   ],
   "source": [
    "#Creating a random train-test split\n",
    "X = naive_similarity.join(weights, how = 'inner')\n",
    "y = train['is_duplicate']\n",
    "#X_train, X_test, y_train, y_test = train_test_split(X, y, test_size = 0.5, random_state = 42)\n",
    "\n",
    "\n",
    "\n",
    "\n",
    "\"\"\"\n",
    "\n",
    "We train our algorithm (gradient boosting classifier) and print the logarithmic loss:\n",
    "\n",
    "#Training the algorithm and making a prediction\"\"\"\n",
    "\n",
    "params = {'alpha': 0.1,\n",
    " 'colsample_bytree': 0.7,\n",
    " 'eta': 0.01,\n",
    " 'eval_metric': 'logloss',\n",
    " 'max_depth': 6,\n",
    " 'min_child_weight': 25,\n",
    " 'objective': 'binary:logistic',\n",
    " 'seed': 42,\n",
    " 'silent': 1,\n",
    " 'subsample': 0.7}\n",
    "\n",
    "num_rounds = 800 \n",
    "plst = list(params.items())\n",
    "from sklearn.model_selection import KFold\n",
    "kf = KFold(n_splits=5, random_state=42, shuffle=True)\n",
    "xgtrain = xgb.DMatrix(X, label=y)\n",
    "xgbcv = xgb.cv(plst, dtrain=xgtrain, num_boost_round=num_rounds, folds=kf, seed=42)"
   ]
  },
  {
   "cell_type": "code",
   "execution_count": 17,
   "metadata": {
    "collapsed": false
   },
   "outputs": [
    {
     "data": {
      "text/plain": [
       "<matplotlib.legend.Legend at 0x7f7ca7958f28>"
      ]
     },
     "execution_count": 17,
     "metadata": {},
     "output_type": "execute_result"
    },
    {
     "data": {
      "image/png": "[encoded data removed]",
      "text/plain": [
       "<matplotlib.figure.Figure at 0x7f7caad4c630>"
      ]
     },
     "metadata": {},
     "output_type": "display_data"
    },
    {
     "name": "stdout",
     "output_type": "stream",
     "text": [
      "time: 287 ms\n"
     ]
    }
   ],
   "source": [
    "plt.figure(figsize=(10,10))\n",
    "plt.plot(xgbcv.iloc[200:,2], label='train')\n",
    "plt.plot(xgbcv.iloc[200:,0], label='test')\n",
    "plt.legend(loc=0)"
   ]
  },
  {
   "cell_type": "code",
   "execution_count": null,
   "metadata": {
    "collapsed": true
   },
   "outputs": [],
   "source": []
  },
  {
   "cell_type": "code",
   "execution_count": 18,
   "metadata": {
    "collapsed": false
   },
   "outputs": [
    {
     "name": "stdout",
     "output_type": "stream",
     "text": [
      "time: 6min 28s\n"
     ]
    }
   ],
   "source": [
    "#Creating a random train-test split\n",
    "X = naive_similarity.join(weights, how = 'inner')\n",
    "y = train['is_duplicate']\n",
    "#X_train, X_test, y_train, y_test = train_test_split(X, y, test_size = 0.5, random_state = 42)\n",
    "\n",
    "\n",
    "\n",
    "\n",
    "\"\"\"\n",
    "\n",
    "We train our algorithm (gradient boosting classifier) and print the logarithmic loss:\n",
    "\n",
    "#Training the algorithm and making a prediction\"\"\"\n",
    "\n",
    "params = {'alpha': 0.1,\n",
    " 'colsample_bytree': 0.7,\n",
    " 'eta': 0.01,\n",
    " 'eval_metric': 'logloss',\n",
    " 'max_depth': 6,\n",
    " 'min_child_weight': 25,\n",
    " 'objective': 'binary:logistic',\n",
    " 'seed': 42,\n",
    " 'silent': 1,\n",
    " 'subsample': 0.7}\n",
    "\n",
    "num_rounds = 800 \n",
    "plst = list(params.items())\n",
    "from sklearn.model_selection import KFold\n",
    "kf = KFold(n_splits=10, random_state=42, shuffle=True)\n",
    "xgtrain = xgb.DMatrix(X, label=y)\n",
    "xgbcv = xgb.cv(plst, dtrain=xgtrain, num_boost_round=num_rounds, folds=kf, seed=42)"
   ]
  },
  {
   "cell_type": "code",
   "execution_count": 19,
   "metadata": {
    "collapsed": false
   },
   "outputs": [
    {
     "data": {
      "text/plain": [
       "<matplotlib.legend.Legend at 0x7f7caae725c0>"
      ]
     },
     "execution_count": 19,
     "metadata": {},
     "output_type": "execute_result"
    },
    {
     "data": {
      "image/png": "[encoded data removed]",
      "text/plain": [
       "<matplotlib.figure.Figure at 0x7f7caae271d0>"
      ]
     },
     "metadata": {},
     "output_type": "display_data"
    },
    {
     "name": "stdout",
     "output_type": "stream",
     "text": [
      "time: 379 ms\n"
     ]
    }
   ],
   "source": [
    "plt.figure(figsize=(10,10))\n",
    "plt.plot(xgbcv.iloc[200:,2], label='train')\n",
    "plt.plot(xgbcv.iloc[200:,0], label='test')\n",
    "plt.legend(loc=0)"
   ]
  },
  {
   "cell_type": "code",
   "execution_count": null,
   "metadata": {
    "collapsed": true
   },
   "outputs": [],
   "source": []
  }
 ],
 "metadata": {
  "_change_revision": 2,
  "_is_fork": false,
  "anaconda-cloud": {},
  "kernelspec": {
   "display_name": "Python 3",
   "language": "python",
   "name": "python3"
  },
  "language_info": {
   "codemirror_mode": {
    "name": "ipython",
    "version": 3
   },
   "file_extension": ".py",
   "mimetype": "text/x-python",
   "name": "python",
   "nbconvert_exporter": "python",
   "pygments_lexer": "ipython3",
   "version": "3.6.0"
  }
 },
 "nbformat": 4,
 "nbformat_minor": 0
}
