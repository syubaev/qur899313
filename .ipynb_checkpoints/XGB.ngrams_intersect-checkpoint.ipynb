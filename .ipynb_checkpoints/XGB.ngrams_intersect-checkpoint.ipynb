{
 "cells": [
  {
   "cell_type": "markdown",
   "metadata": {},
   "source": [
    "# XGBoost\n",
    "Для каждого вопроса считаем\n",
    "unigrams = [word for que1 if word not in stopwords]\n",
    "\n",
    "Считаем кол-во совпадений.\n",
    "common_unigrams_len = len( set(unigrams_que1).intersection(set(unigrams_que2))<br>\n",
    "common_unigrams_ratio = кол-во совпадений / (сумма длин вопросов)\n",
    "\n",
    "Так же считаем для bigramm and threegramm. Пример биграммы:\n",
    "\n",
    "ngrams(['sex', 'rel', 'import', 'import2'],2 ) = [('sex', 'rel'), ('rel', 'import'), ('import', 'import2')] "
   ]
  },
  {
   "cell_type": "code",
   "execution_count": 1,
   "metadata": {
    "collapsed": true
   },
   "outputs": [],
   "source": [
    "%matplotlib inline\n",
    "import pandas as pd\n",
    "import dask.dataframe as daskd\n",
    "import numpy as np\n",
    "import seaborn as sns\n",
    "import matplotlib.pyplot as plt\n",
    "from nltk.corpus import stopwords\n",
    "from nltk import word_tokenize, ngrams\n",
    "import re\n",
    "\n",
    "from sklearn.model_selection import train_test_split\n",
    "from sklearn.metrics import log_loss\n",
    "from sklearn import metrics\n",
    "\n",
    "\n",
    "import xgboost as xgb"
   ]
  },
  {
   "cell_type": "code",
   "execution_count": null,
   "metadata": {
    "collapsed": false
   },
   "outputs": [],
   "source": [
    "%%time\n",
    "df = pd.read_csv('../data/train.csv')\n",
    "df_test = pd.read_csv('..//data/test.csv')"
   ]
  },
  {
   "cell_type": "code",
   "execution_count": null,
   "metadata": {
    "collapsed": false
   },
   "outputs": [],
   "source": [
    "df.loc[144083,:]"
   ]
  },
  {
   "cell_type": "code",
   "execution_count": 3,
   "metadata": {
    "collapsed": false
   },
   "outputs": [
    {
     "ename": "NameError",
     "evalue": "name 'df' is not defined",
     "output_type": "error",
     "traceback": [
      "\u001b[0;31m---------------------------------------------------------------------------\u001b[0m",
      "\u001b[0;31mNameError\u001b[0m                                 Traceback (most recent call last)",
      "\u001b[0;32m<ipython-input-3-25dc6c27e6fd>\u001b[0m in \u001b[0;36m<module>\u001b[0;34m()\u001b[0m\n\u001b[0;32m----> 1\u001b[0;31m \u001b[0mprint\u001b[0m\u001b[0;34m(\u001b[0m\u001b[0mdf\u001b[0m\u001b[0;34m.\u001b[0m\u001b[0mshape\u001b[0m\u001b[0;34m)\u001b[0m\u001b[0;34m\u001b[0m\u001b[0m\n\u001b[0m\u001b[1;32m      2\u001b[0m \u001b[0mdf\u001b[0m\u001b[0;34m.\u001b[0m\u001b[0mhead\u001b[0m\u001b[0;34m(\u001b[0m\u001b[0;34m)\u001b[0m\u001b[0;34m\u001b[0m\u001b[0m\n",
      "\u001b[0;31mNameError\u001b[0m: name 'df' is not defined"
     ]
    }
   ],
   "source": [
    "print(df.shape)\n",
    "df.head()"
   ]
  },
  {
   "cell_type": "code",
   "execution_count": null,
   "metadata": {
    "collapsed": false
   },
   "outputs": [],
   "source": [
    "def get_unigrams(que : str) -> list :\n",
    "    eng_stopwords = set(stopwords.words('english'))\n",
    "    return [word for word in word_tokenize(que.lower()) if word not in eng_stopwords]\n",
    "\n",
    "def get_common_unigrams(row):\n",
    "    return len( set(row[\"unigrams_ques1\"]).intersection(set(row[\"unigrams_ques2\"])) )\n",
    "\n",
    "def get_common_unigram_ratio(row):\n",
    "    return float(row[\"unigrams_common_count\"]) / max(len( set(row[\"unigrams_ques1\"]).union(set(row[\"unigrams_ques2\"])) ),1)\n",
    "\n"
   ]
  },
  {
   "cell_type": "code",
   "execution_count": null,
   "metadata": {
    "collapsed": false
   },
   "outputs": [],
   "source": [
    "%%time\n",
    "def get_bigrams(que):\n",
    "    return [i for i in ngrams(que, 2)]\n",
    "\n",
    "def get_common_bigrams(row):\n",
    "    return len( set(row[\"bigrams_ques1\"]).intersection(set(row[\"bigrams_ques2\"])) )\n",
    "\n",
    "def get_common_bigram_ratio(row):\n",
    "    return float(row[\"bigrams_common_count\"]) / max(len( set(row[\"bigrams_ques1\"]).union(set(row[\"bigrams_ques2\"])) ),1)\n",
    "\n",
    "df[\"bigrams_ques1\"] = df[\"unigrams_ques1\"].apply(lambda x: get_bigrams(x))\n",
    "df[\"bigrams_ques2\"] = df[\"unigrams_ques2\"].apply(lambda x: get_bigrams(x)) \n",
    "df[\"bigrams_common_count\"] = df.apply(lambda row: get_common_bigrams(row),axis=1)\n",
    "df[\"bigrams_common_ratio\"] = df.apply(lambda row: get_common_bigram_ratio(row), axis=1)"
   ]
  },
  {
   "cell_type": "code",
   "execution_count": null,
   "metadata": {
    "collapsed": false
   },
   "outputs": [],
   "source": [
    "cnt_srs = df['bigrams_common_count'].value_counts()\n",
    "\n",
    "plt.figure(figsize=(12,6))\n",
    "sns.barplot(cnt_srs.index, cnt_srs.values, alpha=0.8)\n",
    "plt.ylabel('Number of Occurrences', fontsize=12)\n",
    "plt.xlabel('Common bigrams count', fontsize=12)\n",
    "plt.show()"
   ]
  },
  {
   "cell_type": "code",
   "execution_count": null,
   "metadata": {
    "collapsed": false
   },
   "outputs": [],
   "source": [
    "plt.figure(figsize=(12,6))\n",
    "sns.boxplot(x=\"is_duplicate\", y=\"bigrams_common_count\", data=df)\n",
    "plt.xlabel('Is duplicate', fontsize=12)\n",
    "plt.ylabel('Common bigrams count', fontsize=12)\n",
    "plt.show()"
   ]
  },
  {
   "cell_type": "code",
   "execution_count": null,
   "metadata": {
    "collapsed": false
   },
   "outputs": [],
   "source": [
    "plt.figure(figsize=(12,6))\n",
    "sns.boxplot(x=\"is_duplicate\", y=\"bigrams_common_ratio\", data=df)\n",
    "plt.xlabel('Is duplicate', fontsize=12)\n",
    "plt.ylabel('Common bigrams ratio', fontsize=12)\n",
    "plt.show()"
   ]
  },
  {
   "cell_type": "code",
   "execution_count": 73,
   "metadata": {
    "collapsed": true
   },
   "outputs": [],
   "source": [
    "\n",
    "regex = re.compile(r'[^\\w]', re.IGNORECASE)\n",
    "regex.sub(' ', que1).lower()\n",
    "\n",
    "def feature_extraction(row):\n",
    "    que1 = str(row['question1'])\n",
    "    que2 = str(row['question2'])\n",
    "    out_list = []\n",
    "    # get unigram features #\n",
    "    unigrams_que1 = [word for word in regex.sub(' ', que1).lower().split() \n",
    "                     if word not in eng_stopwords]\n",
    "    unigrams_que2 = [word for word in regex.sub(' ', que2).lower().split() \n",
    "                     if word not in eng_stopwords]\n",
    "    common_unigrams_len = len( set(unigrams_que1).intersection(set(unigrams_que2)) )\n",
    "    common_unigrams_ratio = float(common_unigrams_len) / max(len( set(unigrams_que1).union(set(unigrams_que2)) ),1)\n",
    "    out_list.extend([common_unigrams_len, common_unigrams_ratio])\n",
    "\n",
    "    # get bigram features #\n",
    "    bigrams_que1 = [i for i in ngrams(unigrams_que1, 2)]\n",
    "    bigrams_que2 = [i for i in ngrams(unigrams_que2, 2)]\n",
    "    common_bigrams_len = len(set(bigrams_que1).intersection(set(bigrams_que2)))\n",
    "    common_bigrams_ratio = float(common_bigrams_len) / max(len(set(bigrams_que1).union(set(bigrams_que2))),1)\n",
    "    out_list.extend([common_bigrams_len, common_bigrams_ratio])\n",
    "\n",
    "    # get trigram features #\n",
    "    trigrams_que1 = [i for i in ngrams(unigrams_que1, 3)]\n",
    "    trigrams_que2 = [i for i in ngrams(unigrams_que2, 3)]\n",
    "    common_trigrams_len = len(set(trigrams_que1).intersection(set(trigrams_que2)))\n",
    "    common_trigrams_ratio = float(common_trigrams_len) / max(len(set(trigrams_que1).union(set(trigrams_que2))),1)\n",
    "    out_list.extend([common_trigrams_len, common_trigrams_ratio])\n",
    "    return out_list"
   ]
  },
  {
   "cell_type": "code",
   "execution_count": 47,
   "metadata": {
    "collapsed": false
   },
   "outputs": [],
   "source": [
    "def runXGB(train_X, train_y, test_X, test_y=None, feature_names=None, seed_val=0):\n",
    "        params = {}\n",
    "        params[\"objective\"] = \"binary:logistic\"\n",
    "        params['eval_metric'] = 'logloss'\n",
    "        params[\"eta\"] = 0.02\n",
    "        params[\"subsample\"] = 0.7\n",
    "        params[\"min_child_weight\"] = 25\n",
    "        params[\"colsample_bytree\"] = 0.7\n",
    "        params[\"max_depth\"] = 4\n",
    "        params[\"silent\"] = 1\n",
    "        params[\"seed\"] = seed_val\n",
    "        num_rounds = 1000 \n",
    "        plst = list(params.items())\n",
    "        xgtrain = xgb.DMatrix(train_X, label=train_y)\n",
    "\n",
    "        if test_y is not None:\n",
    "                xgtest = xgb.DMatrix(test_X, label=test_y)\n",
    "                watchlist = [ (xgtrain,'train'), (xgtest, 'test') ]\n",
    "                model = xgb.train(plst, xgtrain, num_rounds, watchlist,\n",
    "                                  early_stopping_rounds=25, verbose_eval=50)\n",
    "        else:\n",
    "                xgtest = xgb.DMatrix(test_X)\n",
    "                model = xgb.train(plst, xgtrain, num_rounds)\n",
    "                \n",
    "        pred_test_y = model.predict(xgtest)\n",
    "\n",
    "        loss = 1\n",
    "        if test_y is not None:\n",
    "                loss = log_loss(test_y, pred_test_y)\n",
    "                return pred_test_y, loss, model\n",
    "        else:\n",
    "            return pred_test_y, loss, model"
   ]
  },
  {
   "cell_type": "code",
   "execution_count": 45,
   "metadata": {
    "collapsed": false
   },
   "outputs": [],
   "source": [
    "\n",
    "def auc_plot(y_true, y_pred):\n",
    "    loss = log_loss(y_true, y_pred)\n",
    "    fpr, tpr, thresholds = metrics.roc_curve(y_true, y_pred)\n",
    "    roc_auc=metrics.auc(fpr, tpr)\n",
    "    plt.figure()\n",
    "    plt.plot(fpr, tpr, color='darkorange', lw=2,\n",
    "             label='ROC curve (area = %0.2f)' % roc_auc)\n",
    "    plt.plot([0, 1], [0, 1], color='navy', lw=2, linestyle='--')\n",
    "    plt.legend(loc=\"lower right\")\n",
    "    plt.show()\n",
    "    return loss, roc_auc "
   ]
  },
  {
   "cell_type": "code",
   "execution_count": 39,
   "metadata": {
    "collapsed": false
   },
   "outputs": [],
   "source": [
    "%%time\n",
    "\n",
    "eng_stopwords = set(stopwords.words('english'))"
   ]
  },
  {
   "cell_type": "code",
   "execution_count": 118,
   "metadata": {
    "collapsed": false
   },
   "outputs": [
    {
     "name": "stderr",
     "output_type": "stream",
     "text": [
      "C:\\Program Files\\Anaconda3\\lib\\site-packages\\dask\\dataframe\\core.py:2207: UserWarning: `meta` is not specified, inferred from partial data. Please provide `meta` if the result is unexpected.\n",
      "  Before: .apply(func)\n",
      "  After:  .apply(func, meta={'x': 'f8', 'y': 'f8'}) for dataframe result\n",
      "  or:     .apply(func, meta=('x', 'f8'))            for series result\n",
      "  warnings.warn(msg)\n"
     ]
    },
    {
     "name": "stdout",
     "output_type": "stream",
     "text": [
      "Wall time: 1min 14s\n"
     ]
    }
   ],
   "source": [
    "%%time\n",
    "dd = daskd.from_pandas(df, npartitions=10)\n",
    "dd = dd.set_index('id')\n",
    "X = np.vstack( np.array(dd.apply(lambda row: feature_extraction(row), axis=1).compute()) ) \n",
    "y = np.array(df[\"is_duplicate\"])"
   ]
  },
  {
   "cell_type": "code",
   "execution_count": null,
   "metadata": {
    "collapsed": false
   },
   "outputs": [],
   "source": [
    "%%time\n",
    "X_submit = np.vstack( np.array(df_test.apply(lambda row: feature_extraction(row), axis=1)) ) "
   ]
  },
  {
   "cell_type": "code",
   "execution_count": 41,
   "metadata": {
    "collapsed": false
   },
   "outputs": [],
   "source": [
    "X_train, X_test, y_train, y_test = train_test_split(X, y, test_size=0.33, random_state=42)"
   ]
  },
  {
   "cell_type": "code",
   "execution_count": 49,
   "metadata": {
    "collapsed": false
   },
   "outputs": [
    {
     "name": "stdout",
     "output_type": "stream",
     "text": [
      "[0]\ttrain-logloss:0.687696\ttest-logloss:0.687751\n",
      "Multiple eval metrics have been passed: 'test-logloss' will be used for early stopping.\n",
      "\n",
      "Will train until test-logloss hasn't improved in 25 rounds.\n",
      "[50]\ttrain-logloss:0.564572\ttest-logloss:0.566047\n",
      "[100]\ttrain-logloss:0.52869\ttest-logloss:0.530782\n",
      "[150]\ttrain-logloss:0.515264\ttest-logloss:0.51764\n",
      "[200]\ttrain-logloss:0.510534\ttest-logloss:0.51307\n",
      "[250]\ttrain-logloss:0.507718\ttest-logloss:0.510398\n",
      "[300]\ttrain-logloss:0.506193\ttest-logloss:0.509012\n",
      "[350]\ttrain-logloss:0.505302\ttest-logloss:0.508229\n",
      "[400]\ttrain-logloss:0.504552\ttest-logloss:0.50754\n",
      "[450]\ttrain-logloss:0.503898\ttest-logloss:0.506971\n",
      "[500]\ttrain-logloss:0.503337\ttest-logloss:0.506463\n",
      "[550]\ttrain-logloss:0.502905\ttest-logloss:0.506081\n",
      "[600]\ttrain-logloss:0.502487\ttest-logloss:0.505704\n",
      "[650]\ttrain-logloss:0.502209\ttest-logloss:0.505463\n",
      "[700]\ttrain-logloss:0.501979\ttest-logloss:0.505276\n",
      "[750]\ttrain-logloss:0.501768\ttest-logloss:0.505092\n",
      "[800]\ttrain-logloss:0.501574\ttest-logloss:0.504937\n",
      "[850]\ttrain-logloss:0.501411\ttest-logloss:0.504811\n",
      "[900]\ttrain-logloss:0.501273\ttest-logloss:0.504716\n",
      "[950]\ttrain-logloss:0.501154\ttest-logloss:0.504625\n",
      "[999]\ttrain-logloss:0.501039\ttest-logloss:0.504539\n",
      "Wall time: 2min 48s\n"
     ]
    }
   ],
   "source": [
    "%%time\n",
    "y_pred, loss, model = runXGB(X_train, y_train, X_test, y_test, seed_val=42)"
   ]
  },
  {
   "cell_type": "code",
   "execution_count": 46,
   "metadata": {
    "collapsed": false
   },
   "outputs": [
    {
     "data": {
      "image/png": "[encoded data removed]",
      "text/plain": [
       "<matplotlib.figure.Figure at 0x372e400>"
      ]
     },
     "metadata": {},
     "output_type": "display_data"
    },
    {
     "data": {
      "text/plain": [
       "(0.50375344869079208, 0.78725476062028144)"
      ]
     },
     "execution_count": 46,
     "metadata": {},
     "output_type": "execute_result"
    }
   ],
   "source": [
    "auc_plot(y_test, y_pred)\n"
   ]
  },
  {
   "cell_type": "code",
   "execution_count": 50,
   "metadata": {
    "collapsed": false
   },
   "outputs": [
    {
     "data": {
      "text/plain": [
       "<matplotlib.axes._subplots.AxesSubplot at 0xff341d0>"
      ]
     },
     "execution_count": 50,
     "metadata": {},
     "output_type": "execute_result"
    },
    {
     "data": {
      "image/png": "[encoded data removed]",
      "text/plain": [
       "<matplotlib.figure.Figure at 0x10d2c400>"
      ]
     },
     "metadata": {},
     "output_type": "display_data"
    }
   ],
   "source": [
    "xgb.plot_importance(model)"
   ]
  },
  {
   "cell_type": "code",
   "execution_count": null,
   "metadata": {
    "collapsed": false
   },
   "outputs": [],
   "source": [
    "# For Sumbit\n",
    "y_submit, loss, model = runXGB(X, y, X_submit, seed_val=42)"
   ]
  },
  {
   "cell_type": "code",
   "execution_count": null,
   "metadata": {
    "collapsed": false
   },
   "outputs": [],
   "source": [
    "%%time\n",
    "pd.DataFrame({'test_id':df_test.test_id, 'is_duplicate':y_submit}\n",
    "            ).to_csv('submit/submit.csv', index=False)"
   ]
  },
  {
   "cell_type": "code",
   "execution_count": 35,
   "metadata": {
    "collapsed": false
   },
   "outputs": [
    {
     "data": {
      "text/plain": [
       "['what',\n",
       " 'is',\n",
       " 'the',\n",
       " 'step',\n",
       " 'by',\n",
       " 'step',\n",
       " 'guide',\n",
       " 'to',\n",
       " 'invest',\n",
       " 'in',\n",
       " 'share',\n",
       " 'market',\n",
       " 'in',\n",
       " 'india']"
      ]
     },
     "execution_count": 35,
     "metadata": {},
     "output_type": "execute_result"
    }
   ],
   "source": [
    "regex = re.compile(r'[^\\w]', re.IGNORECASE)\n",
    ".lower().split()\n"
   ]
  },
  {
   "cell_type": "code",
   "execution_count": 54,
   "metadata": {
    "collapsed": true
   },
   "outputs": [],
   "source": []
  },
  {
   "cell_type": "code",
   "execution_count": 79,
   "metadata": {
    "collapsed": false
   },
   "outputs": [
    {
     "ename": "TypeError",
     "evalue": "get() missing 2 required positional arguments: 'dsk' and 'result'",
     "output_type": "error",
     "traceback": [
      "\u001b[1;31m---------------------------------------------------------------------------\u001b[0m",
      "\u001b[1;31mTypeError\u001b[0m                                 Traceback (most recent call last)",
      "\u001b[1;32m<ipython-input-79-3335ad544d77>\u001b[0m in \u001b[0;36m<module>\u001b[1;34m()\u001b[0m\n\u001b[0;32m      1\u001b[0m \u001b[1;32mimport\u001b[0m \u001b[0mdask\u001b[0m\u001b[1;33m\u001b[0m\u001b[0m\n\u001b[1;32m----> 2\u001b[1;33m \u001b[0mdask\u001b[0m\u001b[1;33m.\u001b[0m\u001b[0mthreaded\u001b[0m\u001b[1;33m.\u001b[0m\u001b[0mget\u001b[0m\u001b[1;33m(\u001b[0m\u001b[1;33m)\u001b[0m\u001b[1;33m\u001b[0m\u001b[0m\n\u001b[0m",
      "\u001b[1;31mTypeError\u001b[0m: get() missing 2 required positional arguments: 'dsk' and 'result'"
     ]
    }
   ],
   "source": [
    "import dask\n",
    "dask.threaded.get()"
   ]
  },
  {
   "cell_type": "code",
   "execution_count": 119,
   "metadata": {
    "collapsed": false
   },
   "outputs": [],
   "source": [
    "train_qs = pd.Series(df[0:10]['question1'].tolist() + df[0:10]['question2'].tolist()).astype(str)"
   ]
  },
  {
   "cell_type": "code",
   "execution_count": 129,
   "metadata": {
    "collapsed": false
   },
   "outputs": [
    {
     "data": {
      "text/plain": [
       "'What is the step by step guide to invest in share market in india?'"
      ]
     },
     "execution_count": 129,
     "metadata": {},
     "output_type": "execute_result"
    }
   ],
   "source": [
    "pd.Series(df[0:10]['question1'].tolist()).astype(str)[0]"
   ]
  },
  {
   "cell_type": "code",
   "execution_count": 133,
   "metadata": {
    "collapsed": true
   },
   "outputs": [],
   "source": [
    "from collections import Counter\n",
    "\n",
    "# If a word appears only once, we ignore it completely (likely a typo)\n",
    "# Epsilon defines a smoothing constant, which makes the effect of extremely rare words smaller\n",
    "def get_weight(count, eps=10000, min_count=2):\n",
    "    if count < min_count:\n",
    "        return 0\n",
    "    else:\n",
    "        return 1 / (count + eps)\n",
    "\n",
    "eps = 5000 \n",
    "words = (\" \".join(train_qs)).lower().split()\n",
    "counts = Counter(words)\n",
    "weights = {word: get_weight(count) for word, count in counts.items()}"
   ]
  },
  {
   "cell_type": "code",
   "execution_count": 144,
   "metadata": {
    "collapsed": false
   },
   "outputs": [
    {
     "name": "stdout",
     "output_type": "stream",
     "text": [
      "0.369197853026293 149263 1.237562745613897\n"
     ]
    }
   ],
   "source": [
    "y_train = df['is_duplicate'].values\n",
    "\n",
    "pos_train = y_train[y_train == 1]\n",
    "neg_train = y_train[y_train == 0]\n",
    "\n",
    "# Now we oversample the negative class\n",
    "# There is likely a much more elegant way to do this...\n",
    "p = 0.165\n",
    "scale = ((len(pos_train) / ( len(pos_train) + len(neg_train) )) / p) - 1\n",
    "print(len(pos_train) / (  len(pos_train) + len(neg_train) ), len(pos_train), scale)\n",
    "#while scale > 1:\n",
    "#    neg_train = pd.concat([neg_train, neg_train])\n",
    "#    scale -=1\n",
    "#neg_train = pd.concat([neg_train, neg_train[:int(scale * len(neg_train))]])\n",
    "#print(len(pos_train) / (len(pos_train) + len(neg_train)))\n",
    "\n",
    "#x_train = pd.concat([pos_train, neg_train])\n",
    "#y_train = (np.zeros(len(pos_train)) + 1).tolist() + np.zeros(len(neg_train)).tolist()\n",
    "#del pos_train, neg_train"
   ]
  },
  {
   "cell_type": "code",
   "execution_count": null,
   "metadata": {
    "collapsed": true
   },
   "outputs": [],
   "source": []
  }
 ],
 "metadata": {
  "anaconda-cloud": {},
  "kernelspec": {
   "display_name": "Python 3",
   "language": "python",
   "name": "python3"
  },
  "language_info": {
   "codemirror_mode": {
    "name": "ipython",
    "version": 3
   },
   "file_extension": ".py",
   "mimetype": "text/x-python",
   "name": "python",
   "nbconvert_exporter": "python",
   "pygments_lexer": "ipython3",
   "version": "3.6.0"
  }
 },
 "nbformat": 4,
 "nbformat_minor": 1
}
