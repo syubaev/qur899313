{
 "cells": [
  {
   "cell_type": "markdown",
   "metadata": {
    "_cell_guid": "e8acc802-80ba-e4b0-403c-df40ce20cf20"
   },
   "source": [
    "# Delete stop words\n",
    "\n",
    "This script deletes stop words from train\\test and saving them to data folder."
   ]
  },
  {
   "cell_type": "code",
   "execution_count": 6,
   "metadata": {
    "_cell_guid": "327a2a48-c101-959c-af2d-cabd82276e65",
    "collapsed": false
   },
   "outputs": [
    {
     "name": "stdout",
     "output_type": "stream",
     "text": [
      "time: 12.6 s\n"
     ]
    }
   ],
   "source": [
    "import pandas as pd\n",
    "pd.options.mode.chained_assignment = None \n",
    "import numpy as np\n",
    "import re\n",
    "import nltk\n",
    "#from nltk import ngrams\n",
    "\n",
    "#from sklearn import metrics\n",
    "#import xgboost as xgb\n",
    "#from sklearn.linear_model import LogisticRegression\n",
    "\n",
    "#from gensim.models import word2vec\n",
    "\n",
    "#from sklearn.manifold import TSNE\n",
    "#import matplotlib.pyplot as plt\n",
    "#%matplotlib inline\n",
    "#plt.style.use('ggplot')\n",
    "\n",
    "import multiprocessing as mp\n",
    "%load_ext autotime"
   ]
  },
  {
   "cell_type": "code",
   "execution_count": 7,
   "metadata": {
    "_cell_guid": "c5d7458b-d380-8af7-13cf-5ed65fb42a83",
    "collapsed": false
   },
   "outputs": [
    {
     "name": "stdout",
     "output_type": "stream",
     "text": [
      "time: 246 ms\n"
     ]
    }
   ],
   "source": [
    "STOP_WORDS = nltk.corpus.stopwords.words()\n",
    "regex = re.compile('([^\\s\\w]|_)+')\n",
    "\n",
    "def clean_sentence(val):\n",
    "    \"remove chars that are not letters or numbers, downcase, then remove stop words\"\n",
    "    \n",
    "    sentence = regex.sub('', val).lower()\n",
    "    sentence = sentence.split(\" \")\n",
    "    \n",
    "    for word in list(sentence):\n",
    "        if word in STOP_WORDS:\n",
    "            sentence.remove(word)  \n",
    "            \n",
    "    sentence = \" \".join(sentence)\n",
    "    return sentence\n",
    "\n",
    "def clean_dataframe(data):\n",
    "    \"drop nans, then apply 'clean_sentence' function to question1 and 2\"\n",
    "    for col in ['question1', 'question2']:\n",
    "        data[col][pd.isnull(data[col])] = ''\n",
    "    \n",
    "    for col in ['question1', 'question2']:\n",
    "        data[col] = data[col].apply(clean_sentence)\n",
    "    \n",
    "    return data\n",
    "\n",
    "#data = clean_dataframe(data)\n",
    "#data.head(5)"
   ]
  },
  {
   "cell_type": "code",
   "execution_count": 21,
   "metadata": {
    "collapsed": true
   },
   "outputs": [],
   "source": [
    "def split_df_to_pools(f, data):\n",
    "    if not callable(f):\n",
    "        raise\n",
    "    try:\n",
    "        p = mp.Pool(processes=2)\n",
    "        split = np.array_split(data, 2)\n",
    "        res = p.map(f, split)\n",
    "    finally:\n",
    "        p.close()\n",
    "    return res"
   ]
  },
  {
   "cell_type": "code",
   "execution_count": 22,
   "metadata": {
    "collapsed": false
   },
   "outputs": [
    {
     "name": "stdout",
     "output_type": "stream",
     "text": [
      "CPU times: user 1.78 s, sys: 348 ms, total: 2.13 s\n",
      "Wall time: 2min 41s\n"
     ]
    }
   ],
   "source": [
    "%%time\n",
    "data = pd.read_csv('../data/train.csv')\n",
    "data = pd.concat(split_df_to_pools(clean_dataframe, data))\n",
    "data.to_csv('../data/train_wo_sw.csv')"
   ]
  },
  {
   "cell_type": "code",
   "execution_count": null,
   "metadata": {
    "collapsed": false
   },
   "outputs": [
    {
     "name": "stdout",
     "output_type": "stream",
     "text": [
      "CPU times: user 20.4 s, sys: 2.78 s, total: 23.2 s\n",
      "Wall time: 17min 55s\n"
     ]
    }
   ],
   "source": [
    "%%time\n",
    "data = pd.read_csv('../data/test.csv')\n",
    "data = pd.concat(split_df_to_pools(clean_dataframe, data))\n",
    "data.to_csv('../data/test_wo_sw.csv')"
   ]
  },
  {
   "cell_type": "code",
   "execution_count": null,
   "metadata": {
    "collapsed": true
   },
   "outputs": [],
   "source": []
  }
 ],
 "metadata": {
  "_change_revision": 2,
  "_is_fork": false,
  "anaconda-cloud": {},
  "kernelspec": {
   "display_name": "Python 3",
   "language": "python",
   "name": "python3"
  },
  "language_info": {
   "codemirror_mode": {
    "name": "ipython",
    "version": 3
   },
   "file_extension": ".py",
   "mimetype": "text/x-python",
   "name": "python",
   "nbconvert_exporter": "python",
   "pygments_lexer": "ipython3",
   "version": "3.6.0"
  }
 },
 "nbformat": 4,
 "nbformat_minor": 0
}
